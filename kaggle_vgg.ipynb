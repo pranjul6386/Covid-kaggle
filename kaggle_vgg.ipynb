{
  "nbformat": 4,
  "nbformat_minor": 0,
  "metadata": {
    "colab": {
      "name": "kaggle-vgg.ipynb",
      "provenance": [],
      "collapsed_sections": [],
      "mount_file_id": "19swtETb3dom4XcqX88zxkb6mTgW9vxgg",
      "authorship_tag": "ABX9TyMhaBzLdFFjabLDZw+iWi7F",
      "include_colab_link": true
    },
    "kernelspec": {
      "display_name": "Python 3",
      "name": "python3"
    },
    "language_info": {
      "name": "python"
    }
  },
  "cells": [
    {
      "cell_type": "markdown",
      "metadata": {
        "id": "view-in-github",
        "colab_type": "text"
      },
      "source": [
        "<a href=\"https://colab.research.google.com/github/pranjul6386/Covid-kaggle/blob/main/kaggle_vgg.ipynb\" target=\"_parent\"><img src=\"https://colab.research.google.com/assets/colab-badge.svg\" alt=\"Open In Colab\"/></a>"
      ]
    },
    {
      "cell_type": "code",
      "metadata": {
        "id": "k0s24Lejtwr5"
      },
      "source": [
        "!unzip \"/content/drive/My Drive/kaggle_notebooks/mask.zip\""
      ],
      "execution_count": null,
      "outputs": []
    },
    {
      "cell_type": "code",
      "metadata": {
        "id": "N91A6BzuuF8x"
      },
      "source": [
        "import numpy as np\n",
        "import pandas as pd \n",
        "from bs4 import BeautifulSoup\n",
        "import matplotlib.pyplot as plt\n",
        "import os\n",
        "from tensorflow.keras.preprocessing.image import ImageDataGenerator\n",
        "from tensorflow.keras.applications import MobileNetV2\n",
        "from tensorflow.keras.layers import AveragePooling2D\n",
        "from tensorflow.keras.layers import Dropout,BatchNormalization\n",
        "from tensorflow.keras.layers import Flatten\n",
        "from tensorflow.keras.layers import Dense\n",
        "from tensorflow.keras.layers import Input\n",
        "from tensorflow.keras.models import Model\n",
        "from tensorflow.keras.optimizers import Adam\n",
        "from tensorflow.keras.preprocessing.image import img_to_array\n",
        "from tensorflow.keras.preprocessing.image import load_img\n",
        "from tensorflow.keras.utils import to_categorical\n",
        "from sklearn.preprocessing import LabelEncoder\n",
        "from sklearn.model_selection import train_test_split\n",
        "from sklearn.metrics import classification_report\n",
        "import matplotlib.pyplot as plt\n",
        "from keras.models import Sequential\n",
        "import cv2\n",
        "from keras.applications.vgg16 import VGG16, preprocess_input\n",
        "from keras.preprocessing.image import ImageDataGenerator\n",
        "import random as rand\n",
        "from keras.layers import Dropout\n",
        "from keras.layers.convolutional import Conv2D\n",
        "from keras.layers.convolutional import MaxPooling2D"
      ],
      "execution_count": null,
      "outputs": []
    },
    {
      "cell_type": "code",
      "metadata": {
        "colab": {
          "base_uri": "https://localhost:8080/"
        },
        "id": "lRCMjsUXuhw6",
        "outputId": "5958c9bd-9b89-4d0f-80c2-23d25b96b5c5"
      },
      "source": [
        "def generate_box(obj):  \n",
        "    xmin = int(obj.find('xmin').text)\n",
        "    ymin = int(obj.find('ymin').text)\n",
        "    xmax = int(obj.find('xmax').text)\n",
        "    ymax = int(obj.find('ymax').text)\n",
        "    \n",
        "    return [xmin, ymin, xmax, ymax]\n",
        "#This function will give label assciated with each label and convert them to numbers\n",
        "def generate_label(obj):\n",
        "    if obj.find('name').text == \"with_mask\":\n",
        "        return 1\n",
        "    elif obj.find('name').text == \"mask_weared_incorrect\":\n",
        "        return 2\n",
        "    return 0\n",
        "#Using in this main function we parse the annotations file and get the objects out from them\n",
        "# Also we use the above two functions here \n",
        "def generate_target(image_id, file): \n",
        "    with open(file) as f:\n",
        "        data = f.read()\n",
        "        soup = BeautifulSoup(data, 'xml')\n",
        "        objects = soup.find_all('object')\n",
        "\n",
        "        num_objs = len(objects)\n",
        "\n",
        "        boxes = []\n",
        "        labels = []\n",
        "        for i in objects:\n",
        "            boxes.append(generate_box(i))\n",
        "            labels.append(generate_label(i))\n",
        "            \n",
        "        boxes=np.array(boxes)\n",
        "        labels=np.array(labels)\n",
        "\n",
        "        img_id = np.array(image_id)\n",
        "    # Annotation is in dictionary format\n",
        "        target = {}\n",
        "        target[\"boxes\"] = boxes\n",
        "        target[\"labels\"] = labels\n",
        "        \n",
        "        return (target,num_objs)\n",
        "imgs = list(sorted(os.listdir(\"/content/images\")))\n",
        "labels = list(sorted(os.listdir(\"/content/annotations\")))\n",
        "targets=[]#store coordinates\n",
        "numobjs=[]#stores number of faces in each image\n",
        "#run the loop for number of images we have\n",
        "for i in range(853):\n",
        "    file_image = 'maksssksksss'+ str(i) + '.png'\n",
        "    file_label = 'maksssksksss'+ str(i) + '.xml'\n",
        "    img_path = os.path.join(\"/content/images/\", file_image)\n",
        "    label_path = os.path.join(\"/content/annotations/\", file_label)\n",
        "    #Generate Label\n",
        "    target,numobj = generate_target(i, label_path)\n",
        "    targets.append(target)\n",
        "    numobjs.append(numobj)\n",
        "face_images=[]\n",
        "face_labels=[]\n",
        "for i in range(853):\n",
        "    img_path = r\"/content/images/maksssksksss{}.png\".format(i)\n",
        "    #read image\n",
        "    img = cv2.imread(img_path)\n",
        "    for j in range(numobjs[i]):\n",
        "#       get coordinates of ith image in list \n",
        "        locs=(targets[i]['boxes'][j])\n",
        "#     Get the face from the image using the coordinates\n",
        "#the arguments are as ymin , ymax and xmin xmax\n",
        "        img1=img[locs[1]:locs[3],locs[0]:locs[2]]\n",
        "        img1 = cv2.resize(img1, (224, 224))\n",
        "        img1 = img_to_array(img1)\n",
        "        face_images.append(img1)\n",
        "        face_labels.append(targets[i]['labels'][j])\n",
        "\n",
        "face_images= np.array(face_images, dtype=\"float32\")\n",
        "face_labels = np.array(face_labels)\n",
        "print(face_images.shape)\n",
        "print(face_labels.shape)"
      ],
      "execution_count": null,
      "outputs": [
        {
          "output_type": "stream",
          "text": [
            "(4072, 224, 224, 3)\n",
            "(4072,)\n"
          ],
          "name": "stdout"
        }
      ]
    },
    {
      "cell_type": "code",
      "metadata": {
        "id": "srKbCNR9-kaN"
      },
      "source": [
        "!pip install livelossplot"
      ],
      "execution_count": null,
      "outputs": []
    },
    {
      "cell_type": "markdown",
      "metadata": {
        "id": "nmZdPm8Uv_De"
      },
      "source": [
        "# Feature-extraction using vgg"
      ]
    },
    {
      "cell_type": "code",
      "metadata": {
        "colab": {
          "base_uri": "https://localhost:8080/"
        },
        "id": "bocXfu5luoRw",
        "outputId": "c778e477-2035-43d7-ef01-b4b3fb0f0822"
      },
      "source": [
        "from tensorflow.keras.applications.vgg16 import VGG16\n",
        "base_model=VGG16(weights='imagenet')\n",
        "model=Model(inputs=base_model.input, outputs=base_model.get_layer('fc2').output)\n",
        "t=model.predict(face_images)"
      ],
      "execution_count": null,
      "outputs": [
        {
          "output_type": "stream",
          "text": [
            "Downloading data from https://storage.googleapis.com/tensorflow/keras-applications/vgg16/vgg16_weights_tf_dim_ordering_tf_kernels.h5\n",
            "553467904/553467096 [==============================] - 19s 0us/step\n",
            "553476096/553467096 [==============================] - 19s 0us/step\n"
          ],
          "name": "stdout"
        }
      ]
    },
    {
      "cell_type": "code",
      "metadata": {
        "id": "fR8M3EKYvUd3"
      },
      "source": [
        "from sklearn.model_selection import train_test_split\n",
        "\n",
        "Xtrain, Xtest, Ytrain, Ytest = train_test_split(t,face_labels, test_size=0.2)"
      ],
      "execution_count": null,
      "outputs": []
    },
    {
      "cell_type": "code",
      "metadata": {
        "id": "RgKlNy-67hAi"
      },
      "source": [
        "from sklearn.preprocessing import StandardScaler\n",
        "scaler = StandardScaler()\n",
        "Xtrainscaled = scaler.fit_transform(Xtrain.astype(np.float32))\n",
        "Xtestscaled = scaler.transform(Xtest.astype(np.float32))"
      ],
      "execution_count": null,
      "outputs": []
    },
    {
      "cell_type": "markdown",
      "metadata": {
        "id": "fWWPi4Nrv6Ou"
      },
      "source": [
        "SVM\n"
      ]
    },
    {
      "cell_type": "code",
      "metadata": {
        "id": "QQzdEdJ9vqAR",
        "colab": {
          "base_uri": "https://localhost:8080/",
          "height": 550
        },
        "outputId": "dacb88f6-c015-4b22-9328-bbf5da92ae29"
      },
      "source": [
        "import time\n",
        "start = time.time()\n",
        "from sklearn.metrics import accuracy_score, confusion_matrix, classification_report\n",
        "from sklearn.svm import SVC\n",
        "import seaborn as sns\n",
        "clf = SVC(random_state=42)\n",
        "clf.fit(Xtrain, Ytrain)\n",
        "preds = clf.predict(Xtest)\n",
        "\n",
        "print('Running time: %.4f seconds' % (time.time()-start))\n",
        "print(accuracy_score(Ytest, preds))\n",
        "\n",
        "cm = confusion_matrix(Ytest, preds)\n",
        "sns.heatmap(cm, annot=True, cbar=False)\n",
        "plt.xlabel('Predicted label')\n",
        "plt.ylabel('True label')\n",
        "plt.title('Confusion Matrix')\n",
        "print(classification_report(Ytest, preds))"
      ],
      "execution_count": null,
      "outputs": [
        {
          "output_type": "stream",
          "text": [
            "Running time: 28.0003 seconds\n",
            "0.9030674846625767\n",
            "              precision    recall  f1-score   support\n",
            "\n",
            "           0       0.94      0.69      0.80       164\n",
            "           1       0.90      0.99      0.94       629\n",
            "           2       0.00      0.00      0.00        22\n",
            "\n",
            "    accuracy                           0.90       815\n",
            "   macro avg       0.61      0.56      0.58       815\n",
            "weighted avg       0.88      0.90      0.89       815\n",
            "\n"
          ],
          "name": "stdout"
        },
        {
          "output_type": "stream",
          "text": [
            "/usr/local/lib/python3.7/dist-packages/sklearn/metrics/_classification.py:1272: UndefinedMetricWarning: Precision and F-score are ill-defined and being set to 0.0 in labels with no predicted samples. Use `zero_division` parameter to control this behavior.\n",
            "  _warn_prf(average, modifier, msg_start, len(result))\n"
          ],
          "name": "stderr"
        },
        {
          "output_type": "display_data",
          "data": {
            "image/png": "[encoded data removed]",
            "text/plain": [
              "<Figure size 432x288 with 1 Axes>"
            ]
          },
          "metadata": {
            "tags": [],
            "needs_background": "light"
          }
        }
      ]
    },
    {
      "cell_type": "markdown",
      "metadata": {
        "id": "BpdsnzPMwEYT"
      },
      "source": [
        "Decision tree"
      ]
    },
    {
      "cell_type": "code",
      "metadata": {
        "id": "sr58HrcGwGKv",
        "colab": {
          "base_uri": "https://localhost:8080/",
          "height": 534
        },
        "outputId": "19199e37-1b9f-489a-892f-4b645d778913"
      },
      "source": [
        "from sklearn.tree import DecisionTreeClassifier\n",
        "from sklearn.metrics import accuracy_score, confusion_matrix, classification_report\n",
        "clf_des = DecisionTreeClassifier(max_depth =3, random_state = 42)\n",
        "clf_des.fit(Xtrain, Ytrain)\n",
        "preds_des=clf_des.predict(Xtest)\n",
        "\n",
        "print(accuracy_score(Ytest, preds_des))\n",
        "cm1 = confusion_matrix(Ytest, preds_des)\n",
        "sns.heatmap(cm1, annot=True, cbar=False)\n",
        "plt.xlabel('Predicted label')\n",
        "plt.ylabel('True label')\n",
        "plt.title('Confusion Matrix')\n",
        "print(classification_report(Ytest, preds_des))"
      ],
      "execution_count": null,
      "outputs": [
        {
          "output_type": "stream",
          "text": [
            "0.841717791411043\n",
            "              precision    recall  f1-score   support\n",
            "\n",
            "           0       0.70      0.58      0.63       164\n",
            "           1       0.87      0.94      0.90       629\n",
            "           2       0.00      0.00      0.00        22\n",
            "\n",
            "    accuracy                           0.84       815\n",
            "   macro avg       0.52      0.51      0.51       815\n",
            "weighted avg       0.81      0.84      0.82       815\n",
            "\n"
          ],
          "name": "stdout"
        },
        {
          "output_type": "stream",
          "text": [
            "/usr/local/lib/python3.7/dist-packages/sklearn/metrics/_classification.py:1272: UndefinedMetricWarning: Precision and F-score are ill-defined and being set to 0.0 in labels with no predicted samples. Use `zero_division` parameter to control this behavior.\n",
            "  _warn_prf(average, modifier, msg_start, len(result))\n"
          ],
          "name": "stderr"
        },
        {
          "output_type": "display_data",
          "data": {
            "image/png": "[encoded data removed]",
            "text/plain": [
              "<Figure size 432x288 with 1 Axes>"
            ]
          },
          "metadata": {
            "tags": [],
            "needs_background": "light"
          }
        }
      ]
    },
    {
      "cell_type": "markdown",
      "metadata": {
        "id": "oGXKzbsowJoy"
      },
      "source": [
        "Random forest"
      ]
    },
    {
      "cell_type": "code",
      "metadata": {
        "id": "zoIUHL-IwM_E",
        "colab": {
          "base_uri": "https://localhost:8080/",
          "height": 550
        },
        "outputId": "352105cd-a576-4aa1-b04a-d1e022ad8083"
      },
      "source": [
        "from sklearn.ensemble import RandomForestClassifier\n",
        "from sklearn.model_selection import GridSearchCV\n",
        "\n",
        "#create a new random forest classifier\n",
        "rf = RandomForestClassifier()\n",
        "#create a dictionary of all values we want to test for n_estimators\n",
        "params_rf = {'n_estimators': [50, 100, 200]}\n",
        "#use gridsearch to test all values for n_estimators\n",
        "rf_gs = GridSearchCV(rf, params_rf, cv=5)\n",
        "#fit model to training data\n",
        "rf_gs.fit(Xtrain, Ytrain)\n",
        "\n",
        "#save best model\n",
        "rf_best = rf_gs.best_estimator_\n",
        "#check best n_estimators value\n",
        "print(rf_gs.best_params_)\n",
        "preds_rf=rf_best.predict(Xtest)\n",
        "cm4 = confusion_matrix(Ytest, preds_rf)\n",
        "sns.heatmap(cm4, annot=True, cbar=False)\n",
        "print(accuracy_score(Ytest, preds_rf))\n",
        "plt.xlabel('Predicted label')\n",
        "plt.ylabel('True label')\n",
        "plt.title('Confusion Matrix')\n",
        "print(classification_report(Ytest, preds_rf))"
      ],
      "execution_count": null,
      "outputs": [
        {
          "output_type": "stream",
          "text": [
            "{'n_estimators': 50}\n",
            "0.8674846625766871\n",
            "              precision    recall  f1-score   support\n",
            "\n",
            "           0       0.91      0.52      0.66       164\n",
            "           1       0.86      0.99      0.92       629\n",
            "           2       0.00      0.00      0.00        22\n",
            "\n",
            "    accuracy                           0.87       815\n",
            "   macro avg       0.59      0.50      0.53       815\n",
            "weighted avg       0.85      0.87      0.84       815\n",
            "\n"
          ],
          "name": "stdout"
        },
        {
          "output_type": "stream",
          "text": [
            "/usr/local/lib/python3.7/dist-packages/sklearn/metrics/_classification.py:1272: UndefinedMetricWarning: Precision and F-score are ill-defined and being set to 0.0 in labels with no predicted samples. Use `zero_division` parameter to control this behavior.\n",
            "  _warn_prf(average, modifier, msg_start, len(result))\n"
          ],
          "name": "stderr"
        },
        {
          "output_type": "display_data",
          "data": {
            "image/png": "[encoded data removed]",
            "text/plain": [
              "<Figure size 432x288 with 1 Axes>"
            ]
          },
          "metadata": {
            "tags": [],
            "needs_background": "light"
          }
        }
      ]
    },
    {
      "cell_type": "markdown",
      "metadata": {
        "id": "GdNVXbJQwW89"
      },
      "source": [
        "KNN"
      ]
    },
    {
      "cell_type": "code",
      "metadata": {
        "id": "ZfmUxgBnwYEt",
        "colab": {
          "base_uri": "https://localhost:8080/",
          "height": 534
        },
        "outputId": "0f8a0b94-c590-440f-c094-ffb6d2094d2e"
      },
      "source": [
        "from sklearn.model_selection import GridSearchCV\n",
        "from sklearn.neighbors import KNeighborsClassifier\n",
        "#create new a knn model\n",
        "knn = KNeighborsClassifier()#create a dictionary of all values we want to test for n_neighbors\n",
        "\n",
        "#fit model to training data\n",
        "knn.fit(Xtrain, Ytrain)\n",
        "preds_knn=knn.predict(Xtest)\n",
        "cm6 = confusion_matrix(Ytest, preds_knn)\n",
        "sns.heatmap(cm6, annot=True, cbar=False)\n",
        "plt.xlabel('Predicted label')\n",
        "plt.ylabel('True label')\n",
        "plt.title('Confusion Matrix')\n",
        "print(classification_report(Ytest, preds_knn))\n",
        "knn.score(Xtest, Ytest)"
      ],
      "execution_count": null,
      "outputs": [
        {
          "output_type": "stream",
          "text": [
            "/usr/local/lib/python3.7/dist-packages/sklearn/metrics/_classification.py:1272: UndefinedMetricWarning: Precision and F-score are ill-defined and being set to 0.0 in labels with no predicted samples. Use `zero_division` parameter to control this behavior.\n",
            "  _warn_prf(average, modifier, msg_start, len(result))\n"
          ],
          "name": "stderr"
        },
        {
          "output_type": "stream",
          "text": [
            "              precision    recall  f1-score   support\n",
            "\n",
            "           0       0.81      0.65      0.72       164\n",
            "           1       0.89      0.97      0.93       629\n",
            "           2       0.00      0.00      0.00        22\n",
            "\n",
            "    accuracy                           0.88       815\n",
            "   macro avg       0.57      0.54      0.55       815\n",
            "weighted avg       0.85      0.88      0.86       815\n",
            "\n"
          ],
          "name": "stdout"
        },
        {
          "output_type": "execute_result",
          "data": {
            "text/plain": [
              "0.8797546012269939"
            ]
          },
          "metadata": {
            "tags": []
          },
          "execution_count": 13
        },
        {
          "output_type": "display_data",
          "data": {
            "image/png": "[encoded data removed]",
            "text/plain": [
              "<Figure size 432x288 with 1 Axes>"
            ]
          },
          "metadata": {
            "tags": [],
            "needs_background": "light"
          }
        }
      ]
    },
    {
      "cell_type": "markdown",
      "metadata": {
        "id": "8-SDk2vtweBK"
      },
      "source": [
        "Ensemble"
      ]
    },
    {
      "cell_type": "code",
      "metadata": {
        "id": "5PTrfukqwhTv",
        "colab": {
          "base_uri": "https://localhost:8080/",
          "height": 534
        },
        "outputId": "0ab4d017-b167-4173-d2ca-d02603aa3b75"
      },
      "source": [
        "from sklearn.ensemble import VotingClassifier\n",
        "#create a dictionary of our models\n",
        "estimators=[('knn', knn), ('rf', rf_best), ('svm', clf)]\n",
        "#create our voting classifier, inputting our models\n",
        "ensemble = VotingClassifier(estimators, voting='hard')\n",
        "#fit model to training data\n",
        "ensemble.fit(Xtrain, Ytrain)\n",
        "#test our model on the test dat\n",
        "preds_en=ensemble.predict(Xtest)\n",
        "cm5 = confusion_matrix(Ytest, preds_en)\n",
        "sns.heatmap(cm5, annot=True, cbar=False)\n",
        "plt.xlabel('Predicted label')\n",
        "plt.ylabel('True label')\n",
        "plt.title('Confusion Matrix')\n",
        "print(classification_report(Ytest, preds_en))\n",
        "print(ensemble.score(Xtest, Ytest))"
      ],
      "execution_count": null,
      "outputs": [
        {
          "output_type": "stream",
          "text": [
            "/usr/local/lib/python3.7/dist-packages/sklearn/metrics/_classification.py:1272: UndefinedMetricWarning: Precision and F-score are ill-defined and being set to 0.0 in labels with no predicted samples. Use `zero_division` parameter to control this behavior.\n",
            "  _warn_prf(average, modifier, msg_start, len(result))\n"
          ],
          "name": "stderr"
        },
        {
          "output_type": "stream",
          "text": [
            "              precision    recall  f1-score   support\n",
            "\n",
            "           0       0.94      0.60      0.74       164\n",
            "           1       0.88      0.99      0.93       629\n",
            "           2       0.00      0.00      0.00        22\n",
            "\n",
            "    accuracy                           0.89       815\n",
            "   macro avg       0.61      0.53      0.56       815\n",
            "weighted avg       0.87      0.89      0.87       815\n",
            "\n",
            "0.8871165644171779\n"
          ],
          "name": "stdout"
        },
        {
          "output_type": "display_data",
          "data": {
            "image/png": "[encoded data removed]",
            "text/plain": [
              "<Figure size 432x288 with 1 Axes>"
            ]
          },
          "metadata": {
            "tags": [],
            "needs_background": "light"
          }
        }
      ]
    },
    {
      "cell_type": "markdown",
      "metadata": {
        "id": "f3WPQvoawh-9"
      },
      "source": [
        "elm"
      ]
    },
    {
      "cell_type": "code",
      "metadata": {
        "colab": {
          "base_uri": "https://localhost:8080/",
          "height": 1000
        },
        "id": "Db0_dZl5q7Rj",
        "outputId": "f4cd15ce-3da2-4c53-f18d-125f6704c652"
      },
      "source": [
        "# Final edited date: 2018.3.7\n",
        "# Author: Li Xudong, from NSSC.CAS Beijing\n",
        "# Version: 1.0\n",
        "# Description: Extreme Learning Machine (ELM) class\n",
        "# Methods:\n",
        "#   fit(algorithm)\n",
        "#   predict(x)\n",
        "#   score(x, y)\n",
        "import numpy as np\n",
        "from scipy.linalg import pinv2, inv\n",
        "import time\n",
        "\n",
        "class elm():\n",
        "    '''\n",
        "    Function: elm class init\n",
        "    -------------------\n",
        "    Parameters:\n",
        "    shape: list, shape[hidden units, output units]\n",
        "        numbers of hidden units and output units\n",
        "    activation_function: str, 'sigmoid', 'relu', 'sin', 'tanh' or 'leaky_relu'\n",
        "        Activation function of neurals\n",
        "    x: array, shape[samples, features]\n",
        "        train data\n",
        "    y: array, shape[samples, ]\n",
        "        labels\n",
        "    C: float\n",
        "        regularization parameter\n",
        "    elm_type: str, 'clf' or 'reg'\n",
        "        'clf' means ELM solve classification problems, 'reg' means ELM solve regression problems.\n",
        "    one_hot: bool, Ture or False, default True \n",
        "        The parameter is useful only when elm_type == 'clf'. If the labels need to transformed to\n",
        "        one_hot, this parameter is set to be True\n",
        "    random_type: str, 'uniform' or 'normal', default:'normal'\n",
        "        Weight initialization method\n",
        "    '''\n",
        "    def __init__(self, hidden_units, activation_function,  x, y, C, elm_type, one_hot=True, random_type='normal'):\n",
        "        self.hidden_units = hidden_units\n",
        "        self.activation_function = activation_function\n",
        "        self.random_type = random_type\n",
        "        self.x = x\n",
        "        self.y = y\n",
        "        self.C = C\n",
        "        self.class_num = np.unique(self.y).shape[0]     \n",
        "        self.beta = np.zeros((self.hidden_units, self.class_num))   \n",
        "        self.elm_type = elm_type\n",
        "        self.one_hot = one_hot\n",
        "\n",
        "        # if classification problem and one_hot == True\n",
        "        if elm_type == 'clf' and self.one_hot:\n",
        "            self.one_hot_label = np.zeros((self.y.shape[0], self.class_num))\n",
        "            for i in range(self.y.shape[0]):\n",
        "                self.one_hot_label[i, int(self.y[i])] = 1\n",
        "\n",
        "        # Randomly generate the weight matrix and bias vector from input to hidden layer\n",
        "        # 'uniform': uniform distribution\n",
        "        # 'normal': normal distribution\n",
        "        if self.random_type == 'uniform':\n",
        "            self.W = np.random.uniform(low=0, high=1, size=(self.hidden_units, self.x.shape[1]))\n",
        "            self.b = np.random.uniform(low=0, high=1, size=(self.hidden_units, 1))\n",
        "        if self.random_type == 'normal':\n",
        "            self.W = np.random.normal(loc=0, scale=0.5, size=(self.hidden_units, self.x.shape[1]))\n",
        "            self.b = np.random.normal(loc=0, scale=0.5, size=(self.hidden_units, 1))\n",
        "\n",
        "    # compute the output of hidden layer according to different activation function\n",
        "    def __input2hidden(self, x):\n",
        "        self.temH = np.dot(self.W, x.T) + self.b\n",
        "\n",
        "        if self.activation_function == 'sigmoid':\n",
        "            self.H = 1/(1 + np.exp(- self.temH))\n",
        "\n",
        "        if self.activation_function == 'relu':\n",
        "            self.H = self.temH * (self.temH > 0)\n",
        "\n",
        "        if self.activation_function == 'sin':\n",
        "            self.H = np.sin(self.temH)\n",
        "\n",
        "        if self.activation_function == 'tanh':\n",
        "            self.H = (np.exp(self.temH) - np.exp(-self.temH))/(np.exp(self.temH) + np.exp(-self.temH))\n",
        "\n",
        "        if self.activation_function == 'leaky_relu':\n",
        "            self.H = np.maximum(0, self.temH) + 0.1 * np.minimum(0, self.temH)\n",
        "\n",
        "        return self.H\n",
        "\n",
        "    # compute the output\n",
        "    def __hidden2output(self, H):\n",
        "        self.output = np.dot(H.T, self.beta)\n",
        "        return self.output\n",
        "\n",
        "    '''\n",
        "    Function: Train the model, compute beta matrix, the weight matrix from hidden layer to output layer\n",
        "    ------------------\n",
        "    Parameter:\n",
        "    algorithm: str, 'no_re', 'solution1' or 'solution2'\n",
        "        The algorithm to compute beta matrix\n",
        "    ------------------\n",
        "    Return:\n",
        "    beta: array\n",
        "        the weight matrix from hidden layer to output layer\n",
        "    train_score: float\n",
        "        the accuracy or RMSE\n",
        "    train_time: str\n",
        "        time of computing beta\n",
        "    '''\n",
        "    def fit(self, algorithm):\n",
        "        self.time1 = time.clock()   # compute running time\n",
        "        self.H = self.__input2hidden(self.x)\n",
        "        if self.elm_type == 'clf':\n",
        "            if self.one_hot:\n",
        "                self.y_temp = self.one_hot_label\n",
        "            else:\n",
        "                self.y_temp = self.y\n",
        "        if self.elm_type == 'reg':\n",
        "            self.y_temp = self.y\n",
        "        # no regularization\n",
        "        if algorithm == 'no_re':\n",
        "            self.beta = np.dot(pinv2(self.H.T), self.y_temp)\n",
        "        # faster algorithm 1\n",
        "        if algorithm == 'solution1':\n",
        "            self.tmp1 = inv(np.eye(self.H.shape[0])/self.C + np.dot(self.H, self.H.T))\n",
        "            self.tmp2 = np.dot(self.tmp1, self.H)\n",
        "            self.beta = np.dot(self.tmp2, self.y_temp)\n",
        "        # faster algorithm 2\n",
        "        if algorithm == 'solution2':\n",
        "            self.tmp1 = inv(np.eye(self.H.shape[0])/self.C + np.dot(self.H, self.H.T))\n",
        "            self.tmp2 = np.dot(self.H.T, self.tmp1)\n",
        "            self.beta = np.dot(self.tmp2.T, self.y_temp)\n",
        "        self.time2 = time.clock()\n",
        "\n",
        "        # compute the results\n",
        "        self.result = self.__hidden2output(self.H)\n",
        "        # If the problem if classification problem, the output is softmax\n",
        "        if self.elm_type == 'clf':\n",
        "            self.result = np.exp(self.result)/np.sum(np.exp(self.result), axis=1).reshape(-1, 1)\n",
        "\n",
        "        # Evaluate training results\n",
        "        # If problem is classification, compute the accuracy\n",
        "        # If problem is regression, compute the RMSE\n",
        "        if self.elm_type == 'clf':\n",
        "            self.y_ = np.where(self.result == np.max(self.result, axis=1).reshape(-1, 1))[1]\n",
        "            self.correct = 0\n",
        "            for i in range(self.y.shape[0]):\n",
        "                if self.y_[i] == self.y[i]:\n",
        "                    self.correct += 1\n",
        "            self.train_score = self.correct/self.y.shape[0]\n",
        "        if self.elm_type == 'reg':\n",
        "            self.train_score = np.sqrt(np.sum((self.result - self.y) * (self.result - self.y))/self.y.shape[0])\n",
        "        train_time = str(self.time2 - self.time1)\n",
        "        return self.beta, self.train_score, train_time\n",
        "\n",
        "    '''\n",
        "    Function: compute the result given data\n",
        "    ---------------\n",
        "    Parameters:\n",
        "    x: array, shape[samples, features]\n",
        "    ---------------\n",
        "    Return:\n",
        "    y_: array\n",
        "        predicted results\n",
        "    '''\n",
        "    def predict(self, x):\n",
        "        self.H = self.__input2hidden(x)\n",
        "        self.y_ = self.__hidden2output(self.H)\n",
        "        if self.elm_type == 'clf':\n",
        "            self.y_ = np.where(self.y_ == np.max(self.y_, axis=1).reshape(-1, 1))[1]\n",
        "\n",
        "        return self.y_\n",
        "\n",
        "    '''\n",
        "    Function: compute accuracy or RMSE given data and labels\n",
        "    -------------\n",
        "    Parameters:\n",
        "    x: array, shape[samples, features]\n",
        "    y: array, shape[samples, ]\n",
        "    -------------\n",
        "    Return:\n",
        "    test_score: float, accuracy or RMSE\n",
        "    '''\n",
        "    def score(self, x, y):\n",
        "        self.prediction = self.predict(x)\n",
        "        if self.elm_type == 'clf':\n",
        "            self.correct = 0\n",
        "            for i in range(y.shape[0]):\n",
        "                if self.prediction[i] == y[i]:\n",
        "                    self.correct += 1\n",
        "            self.test_score = self.correct/y.shape[0]\n",
        "        if self.elm_type == 'reg':\n",
        "            self.test_score = np.sqrt(np.sum((self.result - self.y) * (self.result - self.y))/self.y.shape[0])\n",
        "\n",
        "        return self.test_score\n",
        "\n",
        "model = elm(hidden_units=32, activation_function='relu', random_type='normal', x=Xtrain, y=Ytrain, C=0.1, elm_type='clf')\n",
        "beta, train_accuracy, running_time = model.fit('solution2')\n",
        "print(\"classifier beta:\\n\", beta)\n",
        "print(\"classifier train accuracy:\", train_accuracy)\n",
        "print('classifier running time:', running_time)\n",
        "prediction = model.predict(Xtest)\n",
        "print('classifier test accuracy:', model.score(Xtest, Ytest))\n",
        "preds_elm=model.predict(Xtest)\n",
        "cm8 = confusion_matrix(Ytest, preds_elm)\n",
        "sns.heatmap(cm8, annot=True, cbar=False)\n",
        "plt.xlabel('Predicted label')\n",
        "plt.ylabel('True label')\n",
        "plt.title('Confusion Matrix')\n",
        "print(classification_report(Ytest, preds_elm))\n",
        "\n"
      ],
      "execution_count": null,
      "outputs": [
        {
          "output_type": "stream",
          "text": [
            "/usr/local/lib/python3.7/dist-packages/ipykernel_launcher.py:106: DeprecationWarning: time.clock has been deprecated in Python 3.3 and will be removed from Python 3.8: use time.perf_counter or time.process_time instead\n",
            "/usr/local/lib/python3.7/dist-packages/ipykernel_launcher.py:128: DeprecationWarning: time.clock has been deprecated in Python 3.3 and will be removed from Python 3.8: use time.perf_counter or time.process_time instead\n"
          ],
          "name": "stderr"
        },
        {
          "output_type": "stream",
          "text": [
            "classifier beta:\n",
            " [[ 9.55192519e-04  1.36521300e-03  8.17555083e-05]\n",
            " [ 5.04015570e-03 -4.52682545e-03 -1.35559308e-03]\n",
            " [ 1.93670523e-03  1.12836041e-03 -3.89841791e-04]\n",
            " [-6.76310954e-04  6.11423387e-04  6.66931177e-04]\n",
            " [ 2.08642718e-03  4.52841914e-03  1.07867623e-03]\n",
            " [-5.17868924e-04  1.79114984e-03  3.58654963e-04]\n",
            " [ 1.77439515e-03 -1.78623861e-03 -4.17718441e-04]\n",
            " [ 6.48835127e-04 -2.17753354e-03 -7.57019940e-04]\n",
            " [ 2.45990055e-03 -9.74629450e-04 -3.20843502e-04]\n",
            " [-1.10273185e-03  3.29045623e-03  6.03305789e-04]\n",
            " [ 1.56021305e-04  1.68651546e-03 -7.65392095e-05]\n",
            " [-2.58683270e-03  4.28713567e-03 -2.66633150e-04]\n",
            " [-1.40823803e-03  2.38285963e-05  4.44857213e-04]\n",
            " [ 2.23957684e-03 -2.72222657e-03  3.66853048e-04]\n",
            " [-3.85967925e-04  1.67365460e-03 -3.96872175e-04]\n",
            " [ 2.67138706e-04  2.89603323e-04  5.60052521e-04]\n",
            " [ 3.69755747e-03  4.15439483e-04  6.46027639e-04]\n",
            " [ 2.22722145e-04 -1.16985400e-03  5.05043217e-05]\n",
            " [-1.57254136e-03  1.28767223e-03 -6.11787382e-04]\n",
            " [-2.95832535e-03  3.25698678e-03  1.10796757e-04]\n",
            " [ 8.17012900e-04  1.23575170e-03  3.40771194e-04]\n",
            " [-3.68978648e-03  3.53764743e-03  7.90211045e-04]\n",
            " [ 1.29088876e-04  1.13772256e-03 -1.88631399e-03]\n",
            " [ 1.41842868e-03  6.96834911e-04  7.89842568e-04]\n",
            " [ 1.00813482e-03 -1.57810571e-03  9.31240871e-04]\n",
            " [-1.51747196e-03  3.23037653e-03  1.85528138e-04]\n",
            " [ 9.64835432e-04  4.16493773e-04 -1.86122350e-04]\n",
            " [-7.76960648e-04  4.03303667e-03  1.28186403e-04]\n",
            " [ 3.40729967e-03  1.54725016e-03  1.46769043e-03]\n",
            " [ 7.36070889e-03 -5.23770048e-03  4.70201826e-04]\n",
            " [ 1.07804573e-03  3.00652737e-03 -2.94135791e-04]\n",
            " [-2.23095470e-03  6.10960628e-03 -1.14693700e-03]]\n",
            "classifier train accuracy: 0.8338962235185754\n",
            "classifier running time: 0.17632099999997308\n",
            "classifier test accuracy: 0.8049079754601227\n",
            "              precision    recall  f1-score   support\n",
            "\n",
            "           0       0.86      0.19      0.31       164\n",
            "           1       0.80      0.99      0.89       629\n",
            "           2       0.00      0.00      0.00        22\n",
            "\n",
            "    accuracy                           0.80       815\n",
            "   macro avg       0.55      0.39      0.40       815\n",
            "weighted avg       0.79      0.80      0.75       815\n",
            "\n"
          ],
          "name": "stdout"
        },
        {
          "output_type": "stream",
          "text": [
            "/usr/local/lib/python3.7/dist-packages/sklearn/metrics/_classification.py:1272: UndefinedMetricWarning: Precision and F-score are ill-defined and being set to 0.0 in labels with no predicted samples. Use `zero_division` parameter to control this behavior.\n",
            "  _warn_prf(average, modifier, msg_start, len(result))\n"
          ],
          "name": "stderr"
        },
        {
          "output_type": "display_data",
          "data": {
            "image/png": "[encoded data removed]",
            "text/plain": [
              "<Figure size 432x288 with 1 Axes>"
            ]
          },
          "metadata": {
            "tags": [],
            "needs_background": "light"
          }
        }
      ]
    },
    {
      "cell_type": "code",
      "metadata": {
        "id": "7fVywh5M8UQm"
      },
      "source": [
        ""
      ],
      "execution_count": null,
      "outputs": []
    }
  ]
}