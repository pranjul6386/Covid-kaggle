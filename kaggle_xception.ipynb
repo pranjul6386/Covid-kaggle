{
  "nbformat": 4,
  "nbformat_minor": 0,
  "metadata": {
    "colab": {
      "name": "kaggle-xception.ipynb",
      "provenance": [],
      "mount_file_id": "1gWZpHn5xMDoJSDEXNKq72GhL4yxa8itz",
      "authorship_tag": "ABX9TyP47JaF8WTt4k6BuZXDqmtm",
      "include_colab_link": true
    },
    "kernelspec": {
      "name": "python3",
      "display_name": "Python 3"
    },
    "language_info": {
      "name": "python"
    },
    "accelerator": "GPU"
  },
  "cells": [
    {
      "cell_type": "markdown",
      "metadata": {
        "id": "view-in-github",
        "colab_type": "text"
      },
      "source": [
        "<a href=\"https://colab.research.google.com/github/pranjul6386/Covid-kaggle/blob/main/kaggle_xception.ipynb\" target=\"_parent\"><img src=\"https://colab.research.google.com/assets/colab-badge.svg\" alt=\"Open In Colab\"/></a>"
      ]
    },
    {
      "cell_type": "code",
      "metadata": {
        "colab": {
          "base_uri": "https://localhost:8080/"
        },
        "id": "yb97LMTeyWP2",
        "outputId": "27f42f97-8fb6-4c92-fd6e-901147e371fc"
      },
      "source": [
        "!unzip \"/content/drive/My Drive/kaggle_notebooks/mask.zip\""
      ],
      "execution_count": null,
      "outputs": [
        {
          "output_type": "stream",
          "text": [
            "Archive:  /content/drive/My Drive/kaggle_notebooks/mask.zip\n",
            "replace annotations/maksssksksss0.xml? [y]es, [n]o, [A]ll, [N]one, [r]ename: n\n",
            "replace annotations/maksssksksss1.xml? [y]es, [n]o, [A]ll, [N]one, [r]ename: "
          ],
          "name": "stdout"
        }
      ]
    },
    {
      "cell_type": "code",
      "metadata": {
        "id": "KOcD5_7d7BmB"
      },
      "source": [
        "import numpy as np\n",
        "import pandas as pd \n",
        "from bs4 import BeautifulSoup\n",
        "import matplotlib.pyplot as plt\n",
        "import os\n",
        "from tensorflow.keras.preprocessing.image import ImageDataGenerator\n",
        "from tensorflow.keras.applications import MobileNetV2\n",
        "from tensorflow.keras.layers import AveragePooling2D\n",
        "from tensorflow.keras.layers import Dropout,BatchNormalization\n",
        "from tensorflow.keras.layers import Flatten\n",
        "from tensorflow.keras.layers import Dense\n",
        "from tensorflow.keras.layers import Input\n",
        "from tensorflow.keras.models import Model\n",
        "from tensorflow.keras.optimizers import Adam\n",
        "from tensorflow.keras.preprocessing.image import img_to_array\n",
        "from tensorflow.keras.preprocessing.image import load_img\n",
        "from tensorflow.keras.utils import to_categorical\n",
        "from sklearn.preprocessing import LabelEncoder\n",
        "from sklearn.model_selection import train_test_split\n",
        "from sklearn.metrics import classification_report\n",
        "import matplotlib.pyplot as plt\n",
        "from keras.models import Sequential\n",
        "import cv2\n",
        "import random as rand\n",
        "from keras.layers import Dropout\n",
        "from keras.layers.convolutional import Conv2D\n",
        "from keras.layers.convolutional import MaxPooling2D"
      ],
      "execution_count": null,
      "outputs": []
    },
    {
      "cell_type": "code",
      "metadata": {
        "colab": {
          "base_uri": "https://localhost:8080/"
        },
        "id": "HdhSuaAV7Frq",
        "outputId": "dbb4cc71-295f-4891-b320-1e3a72d8dae9"
      },
      "source": [
        "def generate_box(obj):  \n",
        "    xmin = int(obj.find('xmin').text)\n",
        "    ymin = int(obj.find('ymin').text)\n",
        "    xmax = int(obj.find('xmax').text)\n",
        "    ymax = int(obj.find('ymax').text)\n",
        "    \n",
        "    return [xmin, ymin, xmax, ymax]\n",
        "#This function will give label assciated with each label and convert them to numbers\n",
        "def generate_label(obj):\n",
        "    if obj.find('name').text == \"with_mask\":\n",
        "        return 1\n",
        "    elif obj.find('name').text == \"mask_weared_incorrect\":\n",
        "        return 2\n",
        "    return 0\n",
        "#Using in this main function we parse the annotations file and get the objects out from them\n",
        "# Also we use the above two functions here \n",
        "def generate_target(image_id, file): \n",
        "    with open(file) as f:\n",
        "        data = f.read()\n",
        "        soup = BeautifulSoup(data, 'xml')\n",
        "        objects = soup.find_all('object')\n",
        "\n",
        "        num_objs = len(objects)\n",
        "\n",
        "        boxes = []\n",
        "        labels = []\n",
        "        for i in objects:\n",
        "            boxes.append(generate_box(i))\n",
        "            labels.append(generate_label(i))\n",
        "            \n",
        "        boxes=np.array(boxes)\n",
        "        labels=np.array(labels)\n",
        "\n",
        "        img_id = np.array(image_id)\n",
        "    # Annotation is in dictionary format\n",
        "        target = {}\n",
        "        target[\"boxes\"] = boxes\n",
        "        target[\"labels\"] = labels\n",
        "        \n",
        "        return (target,num_objs)\n",
        "imgs = list(sorted(os.listdir(\"/content/images\")))\n",
        "labels = list(sorted(os.listdir(\"/content/annotations\")))\n",
        "targets=[]#store coordinates\n",
        "numobjs=[]#stores number of faces in each image\n",
        "#run the loop for number of images we have\n",
        "for i in range(853):\n",
        "    file_image = 'maksssksksss'+ str(i) + '.png'\n",
        "    file_label = 'maksssksksss'+ str(i) + '.xml'\n",
        "    img_path = os.path.join(\"/content/images/\", file_image)\n",
        "    label_path = os.path.join(\"/content/annotations/\", file_label)\n",
        "    #Generate Label\n",
        "    target,numobj = generate_target(i, label_path)\n",
        "    targets.append(target)\n",
        "    numobjs.append(numobj)\n",
        "face_images=[]\n",
        "face_labels=[]\n",
        "for i in range(853):\n",
        "    img_path = r\"/content/images/maksssksksss{}.png\".format(i)\n",
        "    #read image\n",
        "    img = cv2.imread(img_path)\n",
        "    for j in range(numobjs[i]):\n",
        "#       get coordinates of ith image in list \n",
        "        locs=(targets[i]['boxes'][j])\n",
        "#     Get the face from the image using the coordinates\n",
        "#the arguments are as ymin , ymax and xmin xmax\n",
        "        img1=img[locs[1]:locs[3],locs[0]:locs[2]]\n",
        "        img1 = cv2.resize(img1, (299, 299))\n",
        "        img1 = img_to_array(img1)\n",
        "        face_images.append(img1)\n",
        "        face_labels.append(targets[i]['labels'][j])\n",
        "\n",
        "face_images= np.array(face_images, dtype=\"float32\")\n",
        "face_labels = np.array(face_labels)\n",
        "print(face_images.shape)\n",
        "print(face_labels.shape)"
      ],
      "execution_count": null,
      "outputs": [
        {
          "output_type": "stream",
          "text": [
            "(4072, 299, 299, 3)\n",
            "(4072,)\n"
          ],
          "name": "stdout"
        }
      ]
    },
    {
      "cell_type": "markdown",
      "metadata": {
        "id": "bFsOc6cYwXCo"
      },
      "source": [
        "# FEATURE EXTRACTION USING INCEPTION"
      ]
    },
    {
      "cell_type": "code",
      "metadata": {
        "id": "P1zbM0qn7aXq"
      },
      "source": [
        "from tensorflow.keras.applications import Xception\n",
        "import tensorflow as tf\n",
        " \n",
        "base_model=tf.keras.applications.xception.Xception(weights='imagenet')\n",
        "#Summary of Xception Model\n",
        "model=Model(inputs=base_model.input, outputs=base_model.get_layer('avg_pool').output)\n",
        "t=model.predict(face_images)"
      ],
      "execution_count": null,
      "outputs": []
    },
    {
      "cell_type": "code",
      "metadata": {
        "id": "NmuhdrPX7mQm"
      },
      "source": [
        "from sklearn.model_selection import train_test_split\n",
        "\n",
        "Xtrain, Xtest, Ytrain, Ytest = train_test_split(t,face_labels, test_size=0.2)"
      ],
      "execution_count": null,
      "outputs": []
    },
    {
      "cell_type": "markdown",
      "metadata": {
        "id": "TvcebBk8wkKg"
      },
      "source": [
        "SVM"
      ]
    },
    {
      "cell_type": "code",
      "metadata": {
        "colab": {
          "base_uri": "https://localhost:8080/",
          "height": 550
        },
        "id": "5vLTrr7s7tG-",
        "outputId": "92a2e698-32b0-4928-c90b-3d561c3ad26d"
      },
      "source": [
        "import time\n",
        "start = time.time()\n",
        "from sklearn.metrics import accuracy_score, confusion_matrix, classification_report\n",
        "from sklearn.svm import SVC\n",
        "import seaborn as sns\n",
        "clf = SVC()\n",
        "clf.fit(Xtrain, Ytrain)\n",
        "preds = clf.predict(Xtest)\n",
        "\n",
        "print('Running time: %.4f seconds' % (time.time()-start))\n",
        "print(accuracy_score(Ytest, preds))\n",
        "\n",
        "cm = confusion_matrix(Ytest, preds)\n",
        "sns.heatmap(cm, annot=True, cbar=False)\n",
        "plt.xlabel('Predicted label')\n",
        "plt.ylabel('True label')\n",
        "plt.title('Confusion Matrix')\n",
        "print(classification_report(Ytest, preds))"
      ],
      "execution_count": null,
      "outputs": [
        {
          "output_type": "stream",
          "text": [
            "Running time: 14.8715 seconds\n",
            "0.912883435582822\n",
            "              precision    recall  f1-score   support\n",
            "\n",
            "           0       0.91      0.70      0.79       137\n",
            "           1       0.91      0.99      0.95       655\n",
            "           2       0.00      0.00      0.00        23\n",
            "\n",
            "    accuracy                           0.91       815\n",
            "   macro avg       0.61      0.56      0.58       815\n",
            "weighted avg       0.89      0.91      0.90       815\n",
            "\n"
          ],
          "name": "stdout"
        },
        {
          "output_type": "stream",
          "text": [
            "/usr/local/lib/python3.7/dist-packages/sklearn/metrics/_classification.py:1272: UndefinedMetricWarning: Precision and F-score are ill-defined and being set to 0.0 in labels with no predicted samples. Use `zero_division` parameter to control this behavior.\n",
            "  _warn_prf(average, modifier, msg_start, len(result))\n"
          ],
          "name": "stderr"
        },
        {
          "output_type": "display_data",
          "data": {
            "image/png": "[encoded data removed]",
            "text/plain": [
              "<Figure size 432x288 with 1 Axes>"
            ]
          },
          "metadata": {
            "tags": [],
            "needs_background": "light"
          }
        }
      ]
    },
    {
      "cell_type": "markdown",
      "metadata": {
        "id": "JfxJmphUwlsI"
      },
      "source": [
        "Decision tree"
      ]
    },
    {
      "cell_type": "code",
      "metadata": {
        "colab": {
          "base_uri": "https://localhost:8080/",
          "height": 534
        },
        "id": "Ah0lKjVs7zXC",
        "outputId": "04b9535d-94cd-4421-d49f-09c0437a69fe"
      },
      "source": [
        "from sklearn.tree import DecisionTreeClassifier\n",
        "from sklearn.metrics import accuracy_score, confusion_matrix, classification_report\n",
        "clf_des = DecisionTreeClassifier(max_depth =3, random_state = 42)\n",
        "clf_des.fit(Xtrain, Ytrain)\n",
        "preds_des=clf_des.predict(Xtest)\n",
        "\n",
        "print(accuracy_score(Ytest, preds_des))\n",
        "cm1 = confusion_matrix(Ytest, preds_des)\n",
        "sns.heatmap(cm1, annot=True, cbar=False)\n",
        "plt.xlabel('Predicted label')\n",
        "plt.ylabel('True label')\n",
        "plt.title('Confusion Matrix')\n",
        "print(classification_report(Ytest, preds_des))"
      ],
      "execution_count": null,
      "outputs": [
        {
          "output_type": "stream",
          "text": [
            "0.8785276073619632\n",
            "              precision    recall  f1-score   support\n",
            "\n",
            "           0       0.74      0.64      0.68       137\n",
            "           1       0.90      0.96      0.93       655\n",
            "           2       0.00      0.00      0.00        23\n",
            "\n",
            "    accuracy                           0.88       815\n",
            "   macro avg       0.55      0.53      0.54       815\n",
            "weighted avg       0.85      0.88      0.86       815\n",
            "\n"
          ],
          "name": "stdout"
        },
        {
          "output_type": "stream",
          "text": [
            "/usr/local/lib/python3.7/dist-packages/sklearn/metrics/_classification.py:1272: UndefinedMetricWarning: Precision and F-score are ill-defined and being set to 0.0 in labels with no predicted samples. Use `zero_division` parameter to control this behavior.\n",
            "  _warn_prf(average, modifier, msg_start, len(result))\n"
          ],
          "name": "stderr"
        },
        {
          "output_type": "display_data",
          "data": {
            "image/png": "[encoded data removed]",
            "text/plain": [
              "<Figure size 432x288 with 1 Axes>"
            ]
          },
          "metadata": {
            "tags": [],
            "needs_background": "light"
          }
        }
      ]
    },
    {
      "cell_type": "markdown",
      "metadata": {
        "id": "8XamlVfhwqEj"
      },
      "source": [
        "Random forest"
      ]
    },
    {
      "cell_type": "code",
      "metadata": {
        "colab": {
          "base_uri": "https://localhost:8080/",
          "height": 550
        },
        "id": "UmnkLOg175Dh",
        "outputId": "142fa921-f39b-482c-efa9-d6aff1e10f69"
      },
      "source": [
        "from sklearn.ensemble import RandomForestClassifier\n",
        "from sklearn.model_selection import GridSearchCV\n",
        "\n",
        "#create a new random forest classifier\n",
        "rf = RandomForestClassifier()\n",
        "#create a dictionary of all values we want to test for n_estimators\n",
        "params_rf = {'n_estimators': [50, 100, 200]}\n",
        "#use gridsearch to test all values for n_estimators\n",
        "rf_gs = GridSearchCV(rf, params_rf, cv=5)\n",
        "#fit model to training data\n",
        "rf_gs.fit(Xtrain, Ytrain)\n",
        "\n",
        "#save best model\n",
        "rf_best = rf_gs.best_estimator_\n",
        "#check best n_estimators value\n",
        "print(rf_gs.best_params_)\n",
        "preds_rf=rf_best.predict(Xtest)\n",
        "cm4 = confusion_matrix(Ytest, preds_rf)\n",
        "sns.heatmap(cm4, annot=True, cbar=False)\n",
        "print(accuracy_score(Ytest, preds_rf))\n",
        "plt.xlabel('Predicted label')\n",
        "plt.ylabel('True label')\n",
        "plt.title('Confusion Matrix')\n",
        "print(classification_report(Ytest, preds_rf))"
      ],
      "execution_count": null,
      "outputs": [
        {
          "output_type": "stream",
          "text": [
            "{'n_estimators': 50}\n",
            "0.901840490797546\n",
            "              precision    recall  f1-score   support\n",
            "\n",
            "           0       0.89      0.65      0.75       137\n",
            "           1       0.90      0.99      0.94       655\n",
            "           2       0.00      0.00      0.00        23\n",
            "\n",
            "    accuracy                           0.90       815\n",
            "   macro avg       0.60      0.55      0.56       815\n",
            "weighted avg       0.88      0.90      0.88       815\n",
            "\n"
          ],
          "name": "stdout"
        },
        {
          "output_type": "stream",
          "text": [
            "/usr/local/lib/python3.7/dist-packages/sklearn/metrics/_classification.py:1272: UndefinedMetricWarning: Precision and F-score are ill-defined and being set to 0.0 in labels with no predicted samples. Use `zero_division` parameter to control this behavior.\n",
            "  _warn_prf(average, modifier, msg_start, len(result))\n"
          ],
          "name": "stderr"
        },
        {
          "output_type": "display_data",
          "data": {
            "image/png": "[encoded data removed]",
            "text/plain": [
              "<Figure size 432x288 with 1 Axes>"
            ]
          },
          "metadata": {
            "tags": [],
            "needs_background": "light"
          }
        }
      ]
    },
    {
      "cell_type": "markdown",
      "metadata": {
        "id": "jYJcX_27wr1e"
      },
      "source": [
        "KNN"
      ]
    },
    {
      "cell_type": "code",
      "metadata": {
        "colab": {
          "base_uri": "https://localhost:8080/",
          "height": 534
        },
        "id": "zfnfFo0E78RP",
        "outputId": "f33c9ef3-7902-4979-8f77-54c440318270"
      },
      "source": [
        "from sklearn.model_selection import GridSearchCV\n",
        "from sklearn.neighbors import KNeighborsClassifier\n",
        "#create new a knn model\n",
        "knn = KNeighborsClassifier()#create a dictionary of all values we want to test for n_neighbors\n",
        "\n",
        "#fit model to training data\n",
        "knn.fit(Xtrain, Ytrain)\n",
        "preds_knn=knn.predict(Xtest)\n",
        "cm6 = confusion_matrix(Ytest, preds_knn)\n",
        "sns.heatmap(cm6, annot=True, cbar=False)\n",
        "plt.xlabel('Predicted label')\n",
        "plt.ylabel('True label')\n",
        "plt.title('Confusion Matrix')\n",
        "print(classification_report(Ytest, preds_knn))\n",
        "knn.score(Xtest, Ytest)"
      ],
      "execution_count": null,
      "outputs": [
        {
          "output_type": "stream",
          "text": [
            "/usr/local/lib/python3.7/dist-packages/sklearn/metrics/_classification.py:1272: UndefinedMetricWarning: Precision and F-score are ill-defined and being set to 0.0 in labels with no predicted samples. Use `zero_division` parameter to control this behavior.\n",
            "  _warn_prf(average, modifier, msg_start, len(result))\n"
          ],
          "name": "stderr"
        },
        {
          "output_type": "stream",
          "text": [
            "              precision    recall  f1-score   support\n",
            "\n",
            "           0       0.77      0.75      0.76       137\n",
            "           1       0.92      0.96      0.94       655\n",
            "           2       0.00      0.00      0.00        23\n",
            "\n",
            "    accuracy                           0.90       815\n",
            "   macro avg       0.56      0.57      0.57       815\n",
            "weighted avg       0.87      0.90      0.88       815\n",
            "\n"
          ],
          "name": "stdout"
        },
        {
          "output_type": "execute_result",
          "data": {
            "text/plain": [
              "0.898159509202454"
            ]
          },
          "metadata": {
            "tags": []
          },
          "execution_count": 11
        },
        {
          "output_type": "display_data",
          "data": {
            "image/png": "[encoded data removed]",
            "text/plain": [
              "<Figure size 432x288 with 1 Axes>"
            ]
          },
          "metadata": {
            "tags": [],
            "needs_background": "light"
          }
        }
      ]
    },
    {
      "cell_type": "markdown",
      "metadata": {
        "id": "iQDCNOKfwtLM"
      },
      "source": [
        "Ensemble\n"
      ]
    },
    {
      "cell_type": "code",
      "metadata": {
        "colab": {
          "base_uri": "https://localhost:8080/",
          "height": 534
        },
        "id": "IFKDsZUz7_lu",
        "outputId": "6193931b-29d5-400d-e984-f3d92b3eeca7"
      },
      "source": [
        "from sklearn.ensemble import VotingClassifier\n",
        "#create a dictionary of our models\n",
        "estimators=[('knn', knn), ('rf', rf_best), ('svm', clf)]\n",
        "#create our voting classifier, inputting our models\n",
        "ensemble = VotingClassifier(estimators, voting='hard')\n",
        "#fit model to training data\n",
        "ensemble.fit(Xtrain, Ytrain)\n",
        "#test our model on the test dat\n",
        "preds_en=ensemble.predict(Xtest)\n",
        "cm5 = confusion_matrix(Ytest, preds_en)\n",
        "sns.heatmap(cm5, annot=True, cbar=False)\n",
        "plt.xlabel('Predicted label')\n",
        "plt.ylabel('True label')\n",
        "plt.title('Confusion Matrix')\n",
        "print(classification_report(Ytest, preds_en))\n",
        "print(ensemble.score(Xtest, Ytest))"
      ],
      "execution_count": null,
      "outputs": [
        {
          "output_type": "stream",
          "text": [
            "/usr/local/lib/python3.7/dist-packages/sklearn/metrics/_classification.py:1272: UndefinedMetricWarning: Precision and F-score are ill-defined and being set to 0.0 in labels with no predicted samples. Use `zero_division` parameter to control this behavior.\n",
            "  _warn_prf(average, modifier, msg_start, len(result))\n"
          ],
          "name": "stderr"
        },
        {
          "output_type": "stream",
          "text": [
            "              precision    recall  f1-score   support\n",
            "\n",
            "           0       0.92      0.72      0.80       137\n",
            "           1       0.92      0.99      0.95       655\n",
            "           2       0.00      0.00      0.00        23\n",
            "\n",
            "    accuracy                           0.92       815\n",
            "   macro avg       0.61      0.57      0.58       815\n",
            "weighted avg       0.89      0.92      0.90       815\n",
            "\n",
            "0.9153374233128835\n"
          ],
          "name": "stdout"
        },
        {
          "output_type": "display_data",
          "data": {
            "image/png": "[encoded data removed]",
            "text/plain": [
              "<Figure size 432x288 with 1 Axes>"
            ]
          },
          "metadata": {
            "tags": [],
            "needs_background": "light"
          }
        }
      ]
    },
    {
      "cell_type": "markdown",
      "metadata": {
        "id": "U1S9LSgTwupO"
      },
      "source": [
        "ELM\n"
      ]
    },
    {
      "cell_type": "code",
      "metadata": {
        "colab": {
          "base_uri": "https://localhost:8080/",
          "height": 1000
        },
        "id": "Db0_dZl5q7Rj",
        "outputId": "1f90a5bf-f0dd-407a-f705-7655276503c9"
      },
      "source": [
        "# Final edited date: 2018.3.7\n",
        "# Author: Li Xudong, from NSSC.CAS Beijing\n",
        "# Version: 1.0\n",
        "# Description: Extreme Learning Machine (ELM) class\n",
        "# Methods:\n",
        "#   fit(algorithm)\n",
        "#   predict(x)\n",
        "#   score(x, y)\n",
        "import numpy as np\n",
        "from scipy.linalg import pinv2, inv\n",
        "import time\n",
        "\n",
        "class elm():\n",
        "    '''\n",
        "    Function: elm class init\n",
        "    -------------------\n",
        "    Parameters:\n",
        "    shape: list, shape[hidden units, output units]\n",
        "        numbers of hidden units and output units\n",
        "    activation_function: str, 'sigmoid', 'relu', 'sin', 'tanh' or 'leaky_relu'\n",
        "        Activation function of neurals\n",
        "    x: array, shape[samples, features]\n",
        "        train data\n",
        "    y: array, shape[samples, ]\n",
        "        labels\n",
        "    C: float\n",
        "        regularization parameter\n",
        "    elm_type: str, 'clf' or 'reg'\n",
        "        'clf' means ELM solve classification problems, 'reg' means ELM solve regression problems.\n",
        "    one_hot: bool, Ture or False, default True \n",
        "        The parameter is useful only when elm_type == 'clf'. If the labels need to transformed to\n",
        "        one_hot, this parameter is set to be True\n",
        "    random_type: str, 'uniform' or 'normal', default:'normal'\n",
        "        Weight initialization method\n",
        "    '''\n",
        "    def __init__(self, hidden_units, activation_function,  x, y, C, elm_type, one_hot=True, random_type='normal'):\n",
        "        self.hidden_units = hidden_units\n",
        "        self.activation_function = activation_function\n",
        "        self.random_type = random_type\n",
        "        self.x = x\n",
        "        self.y = y\n",
        "        self.C = C\n",
        "        self.class_num = np.unique(self.y).shape[0]     \n",
        "        self.beta = np.zeros((self.hidden_units, self.class_num))   \n",
        "        self.elm_type = elm_type\n",
        "        self.one_hot = one_hot\n",
        "\n",
        "        # if classification problem and one_hot == True\n",
        "        if elm_type == 'clf' and self.one_hot:\n",
        "            self.one_hot_label = np.zeros((self.y.shape[0], self.class_num))\n",
        "            for i in range(self.y.shape[0]):\n",
        "                self.one_hot_label[i, int(self.y[i])] = 1\n",
        "\n",
        "        # Randomly generate the weight matrix and bias vector from input to hidden layer\n",
        "        # 'uniform': uniform distribution\n",
        "        # 'normal': normal distribution\n",
        "        if self.random_type == 'uniform':\n",
        "            self.W = np.random.uniform(low=0, high=1, size=(self.hidden_units, self.x.shape[1]))\n",
        "            self.b = np.random.uniform(low=0, high=1, size=(self.hidden_units, 1))\n",
        "        if self.random_type == 'normal':\n",
        "            self.W = np.random.normal(loc=0, scale=0.5, size=(self.hidden_units, self.x.shape[1]))\n",
        "            self.b = np.random.normal(loc=0, scale=0.5, size=(self.hidden_units, 1))\n",
        "\n",
        "    # compute the output of hidden layer according to different activation function\n",
        "    def __input2hidden(self, x):\n",
        "        self.temH = np.dot(self.W, x.T) + self.b\n",
        "\n",
        "        if self.activation_function == 'sigmoid':\n",
        "            self.H = 1/(1 + np.exp(- self.temH))\n",
        "\n",
        "        if self.activation_function == 'relu':\n",
        "            self.H = self.temH * (self.temH > 0)\n",
        "\n",
        "        if self.activation_function == 'sin':\n",
        "            self.H = np.sin(self.temH)\n",
        "\n",
        "        if self.activation_function == 'tanh':\n",
        "            self.H = (np.exp(self.temH) - np.exp(-self.temH))/(np.exp(self.temH) + np.exp(-self.temH))\n",
        "\n",
        "        if self.activation_function == 'leaky_relu':\n",
        "            self.H = np.maximum(0, self.temH) + 0.1 * np.minimum(0, self.temH)\n",
        "\n",
        "        return self.H\n",
        "\n",
        "    # compute the output\n",
        "    def __hidden2output(self, H):\n",
        "        self.output = np.dot(H.T, self.beta)\n",
        "        return self.output\n",
        "\n",
        "    '''\n",
        "    Function: Train the model, compute beta matrix, the weight matrix from hidden layer to output layer\n",
        "    ------------------\n",
        "    Parameter:\n",
        "    algorithm: str, 'no_re', 'solution1' or 'solution2'\n",
        "        The algorithm to compute beta matrix\n",
        "    ------------------\n",
        "    Return:\n",
        "    beta: array\n",
        "        the weight matrix from hidden layer to output layer\n",
        "    train_score: float\n",
        "        the accuracy or RMSE\n",
        "    train_time: str\n",
        "        time of computing beta\n",
        "    '''\n",
        "    def fit(self, algorithm):\n",
        "        self.time1 = time.clock()   # compute running time\n",
        "        self.H = self.__input2hidden(self.x)\n",
        "        if self.elm_type == 'clf':\n",
        "            if self.one_hot:\n",
        "                self.y_temp = self.one_hot_label\n",
        "            else:\n",
        "                self.y_temp = self.y\n",
        "        if self.elm_type == 'reg':\n",
        "            self.y_temp = self.y\n",
        "        # no regularization\n",
        "        if algorithm == 'no_re':\n",
        "            self.beta = np.dot(pinv2(self.H.T), self.y_temp)\n",
        "        # faster algorithm 1\n",
        "        if algorithm == 'solution1':\n",
        "            self.tmp1 = inv(np.eye(self.H.shape[0])/self.C + np.dot(self.H, self.H.T))\n",
        "            self.tmp2 = np.dot(self.tmp1, self.H)\n",
        "            self.beta = np.dot(self.tmp2, self.y_temp)\n",
        "        # faster algorithm 2\n",
        "        if algorithm == 'solution2':\n",
        "            self.tmp1 = inv(np.eye(self.H.shape[0])/self.C + np.dot(self.H, self.H.T))\n",
        "            self.tmp2 = np.dot(self.H.T, self.tmp1)\n",
        "            self.beta = np.dot(self.tmp2.T, self.y_temp)\n",
        "        self.time2 = time.clock()\n",
        "\n",
        "        # compute the results\n",
        "        self.result = self.__hidden2output(self.H)\n",
        "        # If the problem if classification problem, the output is softmax\n",
        "        if self.elm_type == 'clf':\n",
        "            self.result = np.exp(self.result)/np.sum(np.exp(self.result), axis=1).reshape(-1, 1)\n",
        "\n",
        "        # Evaluate training results\n",
        "        # If problem is classification, compute the accuracy\n",
        "        # If problem is regression, compute the RMSE\n",
        "        if self.elm_type == 'clf':\n",
        "            self.y_ = np.where(self.result == np.max(self.result, axis=1).reshape(-1, 1))[1]\n",
        "            self.correct = 0\n",
        "            for i in range(self.y.shape[0]):\n",
        "                if self.y_[i] == self.y[i]:\n",
        "                    self.correct += 1\n",
        "            self.train_score = self.correct/self.y.shape[0]\n",
        "        if self.elm_type == 'reg':\n",
        "            self.train_score = np.sqrt(np.sum((self.result - self.y) * (self.result - self.y))/self.y.shape[0])\n",
        "        train_time = str(self.time2 - self.time1)\n",
        "        return self.beta, self.train_score, train_time\n",
        "\n",
        "    '''\n",
        "    Function: compute the result given data\n",
        "    ---------------\n",
        "    Parameters:\n",
        "    x: array, shape[samples, features]\n",
        "    ---------------\n",
        "    Return:\n",
        "    y_: array\n",
        "        predicted results\n",
        "    '''\n",
        "    def predict(self, x):\n",
        "        self.H = self.__input2hidden(x)\n",
        "        self.y_ = self.__hidden2output(self.H)\n",
        "        if self.elm_type == 'clf':\n",
        "            self.y_ = np.where(self.y_ == np.max(self.y_, axis=1).reshape(-1, 1))[1]\n",
        "\n",
        "        return self.y_\n",
        "\n",
        "    '''\n",
        "    Function: compute accuracy or RMSE given data and labels\n",
        "    -------------\n",
        "    Parameters:\n",
        "    x: array, shape[samples, features]\n",
        "    y: array, shape[samples, ]\n",
        "    -------------\n",
        "    Return:\n",
        "    test_score: float, accuracy or RMSE\n",
        "    '''\n",
        "    def score(self, x, y):\n",
        "        self.prediction = self.predict(x)\n",
        "        if self.elm_type == 'clf':\n",
        "            self.correct = 0\n",
        "            for i in range(y.shape[0]):\n",
        "                if self.prediction[i] == y[i]:\n",
        "                    self.correct += 1\n",
        "            self.test_score = self.correct/y.shape[0]\n",
        "        if self.elm_type == 'reg':\n",
        "            self.test_score = np.sqrt(np.sum((self.result - self.y) * (self.result - self.y))/self.y.shape[0])\n",
        "\n",
        "        return self.test_score\n",
        "\n",
        "model = elm(hidden_units=32, activation_function='relu', random_type='normal', x=Xtrain, y=Ytrain, C=0.1, elm_type='clf')\n",
        "beta, train_accuracy, running_time = model.fit('solution2')\n",
        "print(\"classifier beta:\\n\", beta)\n",
        "print(\"classifier train accuracy:\", train_accuracy)\n",
        "print('classifier running time:', running_time)\n",
        "prediction = model.predict(Xtest)\n",
        "print('classifier test accuracy:', model.score(Xtest, Ytest))\n",
        "preds_elm=model.predict(Xtest)\n",
        "cm8 = confusion_matrix(Ytest, preds_elm)\n",
        "sns.heatmap(cm8, annot=True, cbar=False)\n",
        "plt.xlabel('Predicted label')\n",
        "plt.ylabel('True label')\n",
        "plt.title('Confusion Matrix')\n",
        "print(classification_report(Ytest, preds_elm))\n",
        "\n"
      ],
      "execution_count": null,
      "outputs": [
        {
          "output_type": "stream",
          "text": [
            "/usr/local/lib/python3.7/dist-packages/ipykernel_launcher.py:106: DeprecationWarning: time.clock has been deprecated in Python 3.3 and will be removed from Python 3.8: use time.perf_counter or time.process_time instead\n",
            "/usr/local/lib/python3.7/dist-packages/ipykernel_launcher.py:128: DeprecationWarning: time.clock has been deprecated in Python 3.3 and will be removed from Python 3.8: use time.perf_counter or time.process_time instead\n",
            "/usr/local/lib/python3.7/dist-packages/sklearn/metrics/_classification.py:1272: UndefinedMetricWarning: Precision and F-score are ill-defined and being set to 0.0 in labels with no predicted samples. Use `zero_division` parameter to control this behavior.\n",
            "  _warn_prf(average, modifier, msg_start, len(result))\n"
          ],
          "name": "stderr"
        },
        {
          "output_type": "stream",
          "text": [
            "classifier beta:\n",
            " [[-4.14912470e-03  7.99981896e-03  5.01228015e-04]\n",
            " [-2.49674511e-04  4.47662761e-05  5.57265288e-05]\n",
            " [-4.19066507e-05  2.16046921e-04  6.44485117e-05]\n",
            " [ 2.72828940e-04  2.50384131e-04  9.92425947e-06]\n",
            " [-1.66397545e-04  1.14217980e-04 -5.48720487e-05]\n",
            " [ 3.65861146e-03 -3.38955653e-03 -3.35806525e-04]\n",
            " [ 3.65494251e-04 -6.56777717e-04  2.04594502e-05]\n",
            " [-1.06785917e-04  3.88311389e-04 -4.88633985e-05]\n",
            " [-4.20493288e-04 -4.90674016e-05  6.73764933e-05]\n",
            " [-1.34529938e-04 -1.01613504e-04 -4.01631769e-05]\n",
            " [ 5.21720523e-04 -7.61973210e-04  6.49914803e-05]\n",
            " [ 2.44886044e-03  7.30268010e-05 -5.36664983e-04]\n",
            " [-6.13779223e-04  6.09425591e-04 -3.18905064e-05]\n",
            " [ 3.61245859e-05 -1.18693435e-04 -7.29327977e-05]\n",
            " [ 1.52073859e-04  7.33116469e-04  2.30005242e-05]\n",
            " [ 2.01936899e-05  8.70837286e-05 -2.10718946e-05]\n",
            " [ 3.73156840e-04  1.48815433e-04  7.73934936e-05]\n",
            " [-9.31061311e-04  2.05379715e-04  4.41092176e-04]\n",
            " [-1.07083029e-04  3.54042318e-04  1.63329183e-05]\n",
            " [ 1.83106579e-04 -7.61646296e-05 -6.22970885e-05]\n",
            " [-1.14108628e-04  1.01090901e-04  3.50368701e-06]\n",
            " [-2.71619567e-05 -2.64437526e-04  1.39782863e-04]\n",
            " [-1.29222223e-03  1.17179979e-03  2.04881036e-03]\n",
            " [ 1.02813096e-03  1.61958086e-02 -1.52897178e-03]\n",
            " [ 5.05397437e-04 -1.57423011e-04 -4.41752165e-05]\n",
            " [ 2.12683114e-04 -1.08537108e-04 -8.90916360e-05]\n",
            " [ 3.04537163e-04 -1.32860054e-04  6.33414305e-05]\n",
            " [-2.72793400e-04  2.23501815e-04  1.64622309e-05]\n",
            " [-1.14188272e-04  1.65264641e-04  7.58170630e-06]\n",
            " [ 1.28344941e-04 -1.40537987e-04  1.78916959e-05]\n",
            " [-6.91413725e-04  1.37024302e-03 -5.41260500e-05]\n",
            " [ 2.20236655e-04 -1.46463584e-05 -8.91233422e-06]]\n",
            "classifier train accuracy: 0.8756524408965306\n",
            "classifier running time: 0.10306299999999169\n",
            "classifier test accuracy: 0.8846625766871166\n",
            "              precision    recall  f1-score   support\n",
            "\n",
            "           0       0.89      0.54      0.67       137\n",
            "           1       0.88      0.99      0.93       655\n",
            "           2       0.00      0.00      0.00        23\n",
            "\n",
            "    accuracy                           0.88       815\n",
            "   macro avg       0.59      0.51      0.54       815\n",
            "weighted avg       0.86      0.88      0.86       815\n",
            "\n"
          ],
          "name": "stdout"
        },
        {
          "output_type": "display_data",
          "data": {
            "image/png": "[encoded data removed]",
            "text/plain": [
              "<Figure size 432x288 with 1 Axes>"
            ]
          },
          "metadata": {
            "tags": [],
            "needs_background": "light"
          }
        }
      ]
    },
    {
      "cell_type": "markdown",
      "metadata": {
        "id": "UV5ftRwBzkNV"
      },
      "source": [
        "ignore ths for now\n",
        "\n"
      ]
    },
    {
      "cell_type": "code",
      "metadata": {
        "id": "XJESl01g2z8m"
      },
      "source": [
        "from sklearn.model_selection import train_test_split\n",
        "\n",
        "X_train, X_test, Y_train, Y_test = train_test_split(face_images,face_labels, test_size=0.2)"
      ],
      "execution_count": null,
      "outputs": []
    },
    {
      "cell_type": "code",
      "metadata": {
        "colab": {
          "base_uri": "https://localhost:8080/"
        },
        "id": "NLKT6EU5zp58",
        "outputId": "fbf75c2c-4fb0-4df1-c99a-40d31d152a8b"
      },
      "source": [
        "from keras.applications.xception import Xception, preprocess_input\n",
        "from keras.layers import Dense, GlobalAveragePooling2D\n",
        "from keras.callbacks import EarlyStopping\n",
        "base_model = Xception(weights='imagenet', include_top=False)\n",
        "#add a global spatial average pooling layer\n",
        "x = base_model.output\n",
        "x = GlobalAveragePooling2D()(x)\n",
        "x = Dense(512,activation='relu')(x)\n",
        "x = Dropout(0.4)(x)\n",
        "x = Dense(254,activation='relu')(x)\n",
        "predictions = Dense(1,activation='sigmoid')(x)\n",
        "model = Model(inputs=base_model.input, outputs=predictions)\n",
        "model.compile(optimizer=Adam(lr=0.0001), \n",
        "loss='binary_crossentropy',metrics=['accuracy'])\n",
        "es = EarlyStopping(monitor='val_loss', mode='min', verbose=1, patience=10)\n",
        "history=model.fit(X_train, Y_train, validation_data=(X_test,Y_test),shuffle=\"batch\" ,epochs=50, batch_size=60,verbose=1,callbacks=[es],steps_per_epoch=32)\n"
      ],
      "execution_count": null,
      "outputs": [
        {
          "output_type": "stream",
          "text": [
            "/usr/local/lib/python3.7/dist-packages/keras/optimizer_v2/optimizer_v2.py:356: UserWarning: The `lr` argument is deprecated, use `learning_rate` instead.\n",
            "  \"The `lr` argument is deprecated, use `learning_rate` instead.\")\n"
          ],
          "name": "stderr"
        }
      ]
    },
    {
      "cell_type": "code",
      "metadata": {
        "id": "etUcO39N1rzh"
      },
      "source": [
        "scores = model.evaluate(X_test, y_test, verbose=0,batch_size=10)\n",
        "print(\"Baseline Error: %.2f%%\" % (100-scores[1]*100))"
      ],
      "execution_count": null,
      "outputs": []
    }
  ]
}