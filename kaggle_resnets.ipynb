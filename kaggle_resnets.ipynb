{
  "nbformat": 4,
  "nbformat_minor": 0,
  "metadata": {
    "colab": {
      "name": "kaggle-resnets.ipynb",
      "provenance": [],
      "mount_file_id": "1cePKZOiokqeCgw31i9sYgyaTVMgJULw4",
      "authorship_tag": "ABX9TyNr+BXB4aVPR7Ae6vNgN7yT",
      "include_colab_link": true
    },
    "kernelspec": {
      "name": "python3",
      "display_name": "Python 3"
    },
    "language_info": {
      "name": "python"
    },
    "accelerator": "GPU"
  },
  "cells": [
    {
      "cell_type": "markdown",
      "metadata": {
        "id": "view-in-github",
        "colab_type": "text"
      },
      "source": [
        "<a href=\"https://colab.research.google.com/github/pranjul6386/Covid-kaggle/blob/main/kaggle_resnets.ipynb\" target=\"_parent\"><img src=\"https://colab.research.google.com/assets/colab-badge.svg\" alt=\"Open In Colab\"/></a>"
      ]
    },
    {
      "cell_type": "code",
      "metadata": {
        "id": "lLlO-pktRl1H"
      },
      "source": [
        "!unzip \"/content/drive/My Drive/kaggle_notebooks/mask.zip\""
      ],
      "execution_count": null,
      "outputs": []
    },
    {
      "cell_type": "code",
      "metadata": {
        "id": "YJx7LyhlSKqY"
      },
      "source": [
        "import numpy as np\n",
        "import pandas as pd \n",
        "from bs4 import BeautifulSoup\n",
        "import matplotlib.pyplot as plt\n",
        "import os\n",
        "from tensorflow.keras.preprocessing.image import ImageDataGenerator\n",
        "from tensorflow.keras.applications import MobileNetV2\n",
        "from tensorflow.keras.layers import AveragePooling2D\n",
        "from tensorflow.keras.layers import Dropout,BatchNormalization\n",
        "from tensorflow.keras.layers import Flatten\n",
        "from tensorflow.keras.layers import Dense\n",
        "from tensorflow.keras.layers import Input\n",
        "from tensorflow.keras.models import Model\n",
        "from tensorflow.keras.optimizers import Adam\n",
        "from tensorflow.keras.preprocessing.image import img_to_array\n",
        "from tensorflow.keras.preprocessing.image import load_img\n",
        "from tensorflow.keras.utils import to_categorical\n",
        "from sklearn.preprocessing import LabelEncoder\n",
        "from sklearn.model_selection import train_test_split\n",
        "from sklearn.metrics import classification_report\n",
        "import matplotlib.pyplot as plt\n",
        "from keras.models import Sequential\n",
        "import cv2\n",
        "import random as rand\n",
        "from keras.layers import Dropout\n",
        "from keras.layers.convolutional import Conv2D\n",
        "from keras.layers.convolutional import MaxPooling2D"
      ],
      "execution_count": null,
      "outputs": []
    },
    {
      "cell_type": "code",
      "metadata": {
        "id": "Z7An6ebrSNy8"
      },
      "source": [
        "def generate_box(obj):  \n",
        "    xmin = int(obj.find('xmin').text)\n",
        "    ymin = int(obj.find('ymin').text)\n",
        "    xmax = int(obj.find('xmax').text)\n",
        "    ymax = int(obj.find('ymax').text)\n",
        "    \n",
        "    return [xmin, ymin, xmax, ymax]\n",
        "#This function will give label assciated with each label and convert them to numbers\n",
        "def generate_label(obj):\n",
        "    if obj.find('name').text == \"with_mask\":\n",
        "        return 1\n",
        "    elif obj.find('name').text == \"mask_weared_incorrect\":\n",
        "        return 2\n",
        "    return 0\n",
        "#Using in this main function we parse the annotations file and get the objects out from them\n",
        "# Also we use the above two functions here \n",
        "def generate_target(image_id, file): \n",
        "    with open(file) as f:\n",
        "        data = f.read()\n",
        "        soup = BeautifulSoup(data, 'xml')\n",
        "        objects = soup.find_all('object')\n",
        "\n",
        "        num_objs = len(objects)\n",
        "\n",
        "        boxes = []\n",
        "        labels = []\n",
        "        for i in objects:\n",
        "            boxes.append(generate_box(i))\n",
        "            labels.append(generate_label(i))\n",
        "            \n",
        "        boxes=np.array(boxes)\n",
        "        labels=np.array(labels)\n",
        "\n",
        "        img_id = np.array(image_id)\n",
        "    # Annotation is in dictionary format\n",
        "        target = {}\n",
        "        target[\"boxes\"] = boxes\n",
        "        target[\"labels\"] = labels\n",
        "        \n",
        "        return (target,num_objs)"
      ],
      "execution_count": null,
      "outputs": []
    },
    {
      "cell_type": "code",
      "metadata": {
        "colab": {
          "base_uri": "https://localhost:8080/"
        },
        "id": "22CF0hCaSSPr",
        "outputId": "c455d9a1-8a06-45d4-e5b9-cb496c25a2d0"
      },
      "source": [
        "imgs = list(sorted(os.listdir(\"/content/images\")))\n",
        "len(imgs)"
      ],
      "execution_count": null,
      "outputs": [
        {
          "output_type": "execute_result",
          "data": {
            "text/plain": [
              "853"
            ]
          },
          "metadata": {
            "tags": []
          },
          "execution_count": 8
        }
      ]
    },
    {
      "cell_type": "code",
      "metadata": {
        "id": "xmK_S87vSVFu"
      },
      "source": [
        "labels = list(sorted(os.listdir(\"/content/annotations\")))"
      ],
      "execution_count": null,
      "outputs": []
    },
    {
      "cell_type": "code",
      "metadata": {
        "id": "R9MfLAfuSYAg"
      },
      "source": [
        "targets=[]#store coordinates\n",
        "numobjs=[]#stores number of faces in each image\n",
        "#run the loop for number of images we have\n",
        "for i in range(853):\n",
        "    file_image = 'maksssksksss'+ str(i) + '.png'\n",
        "    file_label = 'maksssksksss'+ str(i) + '.xml'\n",
        "    img_path = os.path.join(\"/content/images/\", file_image)\n",
        "    label_path = os.path.join(\"/content/annotations/\", file_label)\n",
        "    #Generate Label\n",
        "    target,numobj = generate_target(i, label_path)\n",
        "    targets.append(target)\n",
        "    numobjs.append(numobj)"
      ],
      "execution_count": null,
      "outputs": []
    },
    {
      "cell_type": "code",
      "metadata": {
        "id": "84gPr_6lSw9i"
      },
      "source": [
        "face_images=[]\n",
        "face_labels=[]\n",
        "for i in range(853):\n",
        "    img_path = r\"/content/images/maksssksksss{}.png\".format(i)\n",
        "    #read image\n",
        "    img = cv2.imread(img_path)\n",
        "    for j in range(numobjs[i]):\n",
        "#       get coordinates of ith image in list \n",
        "        locs=(targets[i]['boxes'][j])\n",
        "#     Get the face from the image using the coordinates\n",
        "#the arguments are as ymin , ymax and xmin xmax\n",
        "        img1=img[locs[1]:locs[3],locs[0]:locs[2]]\n",
        "        img1 = cv2.resize(img1, (224, 224))\n",
        "        img1 = img_to_array(img1)\n",
        "        face_images.append(img1)\n",
        "        face_labels.append(targets[i]['labels'][j])\n",
        "\n",
        "face_images= np.array(face_images, dtype=\"float32\")\n",
        "face_labels = np.array(face_labels)"
      ],
      "execution_count": null,
      "outputs": []
    },
    {
      "cell_type": "code",
      "metadata": {
        "colab": {
          "base_uri": "https://localhost:8080/"
        },
        "id": "XfSe68RySx-p",
        "outputId": "27ae7ba9-f849-413c-ce54-177165bd513e"
      },
      "source": [
        "face_images.shape"
      ],
      "execution_count": null,
      "outputs": [
        {
          "output_type": "execute_result",
          "data": {
            "text/plain": [
              "(4072, 224, 224, 3)"
            ]
          },
          "metadata": {
            "tags": []
          },
          "execution_count": 12
        }
      ]
    },
    {
      "cell_type": "code",
      "metadata": {
        "colab": {
          "base_uri": "https://localhost:8080/"
        },
        "id": "nxo9-xvBS0xl",
        "outputId": "92bbfcf8-881f-4b92-afca-3819d0d09cbd"
      },
      "source": [
        "face_labels.shape"
      ],
      "execution_count": null,
      "outputs": [
        {
          "output_type": "execute_result",
          "data": {
            "text/plain": [
              "(4072,)"
            ]
          },
          "metadata": {
            "tags": []
          },
          "execution_count": 13
        }
      ]
    },
    {
      "cell_type": "markdown",
      "metadata": {
        "id": "kRGg0sm1zH76"
      },
      "source": [
        "# Finetuning-resnets50\n"
      ]
    },
    {
      "cell_type": "code",
      "metadata": {
        "colab": {
          "base_uri": "https://localhost:8080/",
          "height": 249
        },
        "id": "SbKUiLKZzMN1",
        "outputId": "bef44bc9-95ca-42a6-c07d-12234c91d10b"
      },
      "source": [
        "from tensorflow.keras.applications import ResNet50\n",
        "\n",
        "base_model_new = ResNet50(input_shape=(224, 224,3), include_top=False, weights=\"imagenet\")\n",
        "for layer in base_model.layers:\n",
        "    layer.trainable = False\n",
        "base_model_new = Sequential()\n",
        "base_model_new.add(ResNet50(include_top=False, weights='imagenet', pooling='max'))\n",
        "base_model_new.add(Dense(1024,activation=\"relu\"))\n",
        "base_model_new.add(Dense(512,activation=\"relu\"))\n",
        "base_model_new.add(Dense(1, activation='sigmoid'))\n",
        "base_model_new.compile(optimizer = tf.keras.optimizers.SGD(lr=0.0001), loss = 'binary_crossentropy', metrics = ['acc'])\n",
        "history=model.fit(face_images,face_labels,batch_size=32, epochs=50)"
      ],
      "execution_count": null,
      "outputs": [
        {
          "output_type": "stream",
          "text": [
            "/usr/local/lib/python3.7/dist-packages/keras/optimizer_v2/optimizer_v2.py:356: UserWarning: The `lr` argument is deprecated, use `learning_rate` instead.\n",
            "  \"The `lr` argument is deprecated, use `learning_rate` instead.\")\n"
          ],
          "name": "stderr"
        },
        {
          "output_type": "error",
          "ename": "TypeError",
          "evalue": "ignored",
          "traceback": [
            "\u001b[0;31m---------------------------------------------------------------------------\u001b[0m",
            "\u001b[0;31mTypeError\u001b[0m                                 Traceback (most recent call last)",
            "\u001b[0;32m<ipython-input-33-66c62eb167fa>\u001b[0m in \u001b[0;36m<module>\u001b[0;34m()\u001b[0m\n\u001b[1;32m     10\u001b[0m \u001b[0mbase_model_new\u001b[0m\u001b[0;34m.\u001b[0m\u001b[0madd\u001b[0m\u001b[0;34m(\u001b[0m\u001b[0mDense\u001b[0m\u001b[0;34m(\u001b[0m\u001b[0;36m1\u001b[0m\u001b[0;34m,\u001b[0m \u001b[0mactivation\u001b[0m\u001b[0;34m=\u001b[0m\u001b[0;34m'sigmoid'\u001b[0m\u001b[0;34m)\u001b[0m\u001b[0;34m)\u001b[0m\u001b[0;34m\u001b[0m\u001b[0;34m\u001b[0m\u001b[0m\n\u001b[1;32m     11\u001b[0m \u001b[0mbase_model_new\u001b[0m\u001b[0;34m.\u001b[0m\u001b[0mcompile\u001b[0m\u001b[0;34m(\u001b[0m\u001b[0moptimizer\u001b[0m \u001b[0;34m=\u001b[0m \u001b[0mtf\u001b[0m\u001b[0;34m.\u001b[0m\u001b[0mkeras\u001b[0m\u001b[0;34m.\u001b[0m\u001b[0moptimizers\u001b[0m\u001b[0;34m.\u001b[0m\u001b[0mSGD\u001b[0m\u001b[0;34m(\u001b[0m\u001b[0mlr\u001b[0m\u001b[0;34m=\u001b[0m\u001b[0;36m0.0001\u001b[0m\u001b[0;34m)\u001b[0m\u001b[0;34m,\u001b[0m \u001b[0mloss\u001b[0m \u001b[0;34m=\u001b[0m \u001b[0;34m'binary_crossentropy'\u001b[0m\u001b[0;34m,\u001b[0m \u001b[0mmetrics\u001b[0m \u001b[0;34m=\u001b[0m \u001b[0;34m[\u001b[0m\u001b[0;34m'acc'\u001b[0m\u001b[0;34m]\u001b[0m\u001b[0;34m)\u001b[0m\u001b[0;34m\u001b[0m\u001b[0;34m\u001b[0m\u001b[0m\n\u001b[0;32m---> 12\u001b[0;31m \u001b[0mhistory\u001b[0m\u001b[0;34m=\u001b[0m\u001b[0mmodel\u001b[0m\u001b[0;34m.\u001b[0m\u001b[0mfit\u001b[0m\u001b[0;34m(\u001b[0m\u001b[0mface_images\u001b[0m\u001b[0;34m,\u001b[0m\u001b[0mface_labels\u001b[0m\u001b[0;34m,\u001b[0m \u001b[0mbatch_size\u001b[0m\u001b[0;34m=\u001b[0m\u001b[0;36m32\u001b[0m\u001b[0;34m,\u001b[0m \u001b[0mepochs\u001b[0m\u001b[0;34m=\u001b[0m\u001b[0;36m50\u001b[0m\u001b[0;34m)\u001b[0m\u001b[0;34m\u001b[0m\u001b[0;34m\u001b[0m\u001b[0m\n\u001b[0m",
            "\u001b[0;31mTypeError\u001b[0m: fit() got an unexpected keyword argument 'batch_size'"
          ]
        }
      ]
    },
    {
      "cell_type": "markdown",
      "metadata": {
        "id": "L_vWDMcesh8P"
      },
      "source": [
        "# fEATURE EXTRACTION USING RESNET50"
      ]
    },
    {
      "cell_type": "code",
      "metadata": {
        "id": "GLlIwCwNS3Tl"
      },
      "source": [
        "import time\n",
        "import numpy as np\n",
        "import tensorflow as tf\n",
        "import tensorflow.keras.applications.resnet50\n",
        "from tensorflow.python.keras.preprocessing import image\n",
        "from tensorflow.python.keras.models import Model\n",
        "from tensorflow.keras.applications.resnet50 import preprocess_input\n",
        "#from tensorflow.python.keras.applications.inception_v3 import preprocess_input\n",
        "#from tensorflow.python.keras.applications.inception_resnet_v2 import preprocess_input\n",
        "\n",
        "\n",
        "base_model = tf.keras.applications.resnet50.ResNet50(weights='imagenet')\n",
        "model = Model(inputs=base_model.input, outputs=base_model.get_layer('avg_pool').output)\n",
        "\n",
        "\n",
        "\n",
        "\n",
        "#inceptionv3_weights_path = '../input/keras-pretrained-models/inception_v3_weights_tf_dim_ordering_tf_kernels_notop.h5'\n",
        "#inceptionresnetv2_weights_path = '../input/keras-pretrained-models/inception_resnet_v2_weights_tf_dim_ordering_tf_kernels_notop.h5'\n",
        "\n"
      ],
      "execution_count": null,
      "outputs": []
    },
    {
      "cell_type": "code",
      "metadata": {
        "colab": {
          "base_uri": "https://localhost:8080/"
        },
        "id": "eKZsjJyRTbAm",
        "outputId": "dbb91ffb-6184-47ba-e939-7440a3d9eb74"
      },
      "source": [
        "t=model.predict(face_images)\n",
        "print(t.shape)"
      ],
      "execution_count": null,
      "outputs": [
        {
          "output_type": "stream",
          "text": [
            "(4072, 2048)\n"
          ],
          "name": "stdout"
        }
      ]
    },
    {
      "cell_type": "code",
      "metadata": {
        "id": "raKdqAIATkP1"
      },
      "source": [
        "from sklearn.model_selection import train_test_split\n",
        "\n",
        "Xtrain, Xtest, Ytrain, Ytest = train_test_split(t,face_labels, test_size=0.2)"
      ],
      "execution_count": null,
      "outputs": []
    },
    {
      "cell_type": "code",
      "metadata": {
        "id": "9uuVV0AaWcL4"
      },
      "source": [
        "from sklearn.preprocessing import StandardScaler\n",
        "scaler = StandardScaler()\n",
        "X_train_scaled = scaler.fit_transform(Xtrain.astype(np.float32))\n",
        "X_test_scaled = scaler.transform(Xtest.astype(np.float32))"
      ],
      "execution_count": null,
      "outputs": []
    },
    {
      "cell_type": "markdown",
      "metadata": {
        "id": "z7mjN8nIsWOS"
      },
      "source": [
        "SVM"
      ]
    },
    {
      "cell_type": "code",
      "metadata": {
        "colab": {
          "base_uri": "https://localhost:8080/",
          "height": 497
        },
        "id": "P-YLaqwvUAiT",
        "outputId": "224df45c-d719-485b-82bd-997443657a55"
      },
      "source": [
        "import time\n",
        "start = time.time()\n",
        "from sklearn.metrics import accuracy_score, confusion_matrix, classification_report\n",
        "from sklearn.svm import SVC\n",
        "import seaborn as sns\n",
        "\n",
        "clf = SVC(random_state=42)\n",
        "clf.fit(X_train_scaled, Ytrain)\n",
        "preds = clf.predict(X_test_scaled)\n",
        "\n",
        "print('Running time: %.4f seconds' % (time.time()-start))\n",
        "print(accuracy_score(Ytest, preds))\n",
        "\n",
        "cm = confusion_matrix(Ytest, preds)\n",
        "sns.heatmap(cm, annot=True, cbar=False)\n",
        "plt.xlabel('Predicted label')\n",
        "plt.ylabel('True label')\n",
        "plt.title('Confusion Matrix')\n",
        "print(classification_report(Ytest, preds))"
      ],
      "execution_count": null,
      "outputs": [
        {
          "output_type": "stream",
          "text": [
            "Running time: 17.8205 seconds\n",
            "0.950920245398773\n",
            "              precision    recall  f1-score   support\n",
            "\n",
            "           0       0.95      0.86      0.90       160\n",
            "           1       0.95      0.99      0.97       638\n",
            "           2       1.00      0.24      0.38        17\n",
            "\n",
            "    accuracy                           0.95       815\n",
            "   macro avg       0.97      0.70      0.75       815\n",
            "weighted avg       0.95      0.95      0.95       815\n",
            "\n"
          ],
          "name": "stdout"
        },
        {
          "output_type": "display_data",
          "data": {
            "image/png": "[encoded data removed]",
            "text/plain": [
              "<Figure size 432x288 with 1 Axes>"
            ]
          },
          "metadata": {
            "tags": [],
            "needs_background": "light"
          }
        }
      ]
    },
    {
      "cell_type": "markdown",
      "metadata": {
        "id": "gdQqPXxQsSo4"
      },
      "source": [
        "Decision tree\n"
      ]
    },
    {
      "cell_type": "code",
      "metadata": {
        "id": "Cz9Umnc8V4Kc",
        "colab": {
          "base_uri": "https://localhost:8080/",
          "height": 534
        },
        "outputId": "d0894ff8-5e48-4600-b830-950a6c9341d2"
      },
      "source": [
        "from sklearn.tree import DecisionTreeClassifier\n",
        "from sklearn.metrics import accuracy_score, confusion_matrix, classification_report\n",
        "clf_des = DecisionTreeClassifier(max_depth =3, random_state = 42)\n",
        "clf_des.fit(Xtrain, Ytrain)\n",
        "preds_des=clf_des.predict(Xtest)\n",
        "\n",
        "print(accuracy_score(Ytest, preds_des))\n",
        "cm1 = confusion_matrix(Ytest, preds_des)\n",
        "sns.heatmap(cm1, annot=True, cbar=False)\n",
        "plt.xlabel('Predicted label')\n",
        "plt.ylabel('True label')\n",
        "plt.title('Confusion Matrix')\n",
        "print(classification_report(Ytest, preds_des))"
      ],
      "execution_count": null,
      "outputs": [
        {
          "output_type": "stream",
          "text": [
            "0.9006134969325154\n",
            "              precision    recall  f1-score   support\n",
            "\n",
            "           0       0.83      0.72      0.78       160\n",
            "           1       0.91      0.97      0.94       638\n",
            "           2       0.00      0.00      0.00        17\n",
            "\n",
            "    accuracy                           0.90       815\n",
            "   macro avg       0.58      0.56      0.57       815\n",
            "weighted avg       0.88      0.90      0.89       815\n",
            "\n"
          ],
          "name": "stdout"
        },
        {
          "output_type": "stream",
          "text": [
            "/usr/local/lib/python3.7/dist-packages/sklearn/metrics/_classification.py:1272: UndefinedMetricWarning: Precision and F-score are ill-defined and being set to 0.0 in labels with no predicted samples. Use `zero_division` parameter to control this behavior.\n",
            "  _warn_prf(average, modifier, msg_start, len(result))\n"
          ],
          "name": "stderr"
        },
        {
          "output_type": "display_data",
          "data": {
            "image/png": "[encoded data removed]",
            "text/plain": [
              "<Figure size 432x288 with 1 Axes>"
            ]
          },
          "metadata": {
            "tags": [],
            "needs_background": "light"
          }
        }
      ]
    },
    {
      "cell_type": "markdown",
      "metadata": {
        "id": "Rsm6QPIhsNOL"
      },
      "source": [
        "Randomforest"
      ]
    },
    {
      "cell_type": "code",
      "metadata": {
        "colab": {
          "base_uri": "https://localhost:8080/",
          "height": 534
        },
        "id": "lbfh-EdgaypR",
        "outputId": "a8424d13-4cd9-4ffe-daee-217d86210582"
      },
      "source": [
        "from sklearn.ensemble import RandomForestClassifier\n",
        "from sklearn.model_selection import GridSearchCV\n",
        "\n",
        "#create a new random forest classifier\n",
        "rf = RandomForestClassifier()\n",
        "#create a dictionary of all values we want to test for n_estimators\n",
        "params_rf = {'n_estimators': [50, 100, 200]}\n",
        "#use gridsearch to test all values for n_estimators\n",
        "rf_gs = GridSearchCV(rf, params_rf, cv=5)\n",
        "#fit model to training data\n",
        "rf_gs.fit(Xtrain, Ytrain)\n",
        "\n",
        "#save best model\n",
        "rf_best = rf_gs.best_estimator_\n",
        "#check best n_estimators value\n",
        "print(rf_gs.best_params_)\n",
        "preds_rf=rf_best.predict(Xtest)\n",
        "cm4 = confusion_matrix(Ytest, preds_rf)\n",
        "sns.heatmap(cm4, annot=True, cbar=False)\n",
        "plt.xlabel('Predicted label')\n",
        "plt.ylabel('True label')\n",
        "plt.title('Confusion Matrix')\n",
        "print(classification_report(Ytest, preds_rf))"
      ],
      "execution_count": null,
      "outputs": [
        {
          "output_type": "stream",
          "text": [
            "{'n_estimators': 50}\n",
            "              precision    recall  f1-score   support\n",
            "\n",
            "           0       0.94      0.78      0.85       160\n",
            "           1       0.93      0.99      0.96       638\n",
            "           2       0.00      0.00      0.00        17\n",
            "\n",
            "    accuracy                           0.93       815\n",
            "   macro avg       0.62      0.59      0.60       815\n",
            "weighted avg       0.91      0.93      0.92       815\n",
            "\n"
          ],
          "name": "stdout"
        },
        {
          "output_type": "stream",
          "text": [
            "/usr/local/lib/python3.7/dist-packages/sklearn/metrics/_classification.py:1272: UndefinedMetricWarning: Precision and F-score are ill-defined and being set to 0.0 in labels with no predicted samples. Use `zero_division` parameter to control this behavior.\n",
            "  _warn_prf(average, modifier, msg_start, len(result))\n"
          ],
          "name": "stderr"
        },
        {
          "output_type": "display_data",
          "data": {
            "image/png": "[encoded data removed]",
            "text/plain": [
              "<Figure size 432x288 with 1 Axes>"
            ]
          },
          "metadata": {
            "tags": [],
            "needs_background": "light"
          }
        }
      ]
    },
    {
      "cell_type": "markdown",
      "metadata": {
        "id": "Ui_CdNgPsmBc"
      },
      "source": [
        "KNN"
      ]
    },
    {
      "cell_type": "code",
      "metadata": {
        "colab": {
          "base_uri": "https://localhost:8080/",
          "height": 480
        },
        "id": "tilsvnbPsnKa",
        "outputId": "60135e78-9461-4ada-8c04-5d2cc1c24ee5"
      },
      "source": [
        "from sklearn.model_selection import GridSearchCV\n",
        "from sklearn.neighbors import KNeighborsClassifier\n",
        "#create new a knn model\n",
        "knn = KNeighborsClassifier()#create a dictionary of all values we want to test for n_neighbors\n",
        "\n",
        "#fit model to training data\n",
        "knn.fit(Xtrain, Ytrain)\n",
        "preds_knn=knn.predict(Xtest)\n",
        "cm6 = confusion_matrix(Ytest, preds_knn)\n",
        "sns.heatmap(cm6, annot=True, cbar=False)\n",
        "plt.xlabel('Predicted label')\n",
        "plt.ylabel('True label')\n",
        "plt.title('Confusion Matrix')\n",
        "print(classification_report(Ytest, preds_knn))\n",
        "knn.score(Xtest, Ytest)"
      ],
      "execution_count": null,
      "outputs": [
        {
          "output_type": "stream",
          "text": [
            "              precision    recall  f1-score   support\n",
            "\n",
            "           0       0.92      0.86      0.89       160\n",
            "           1       0.95      0.98      0.97       638\n",
            "           2       1.00      0.29      0.45        17\n",
            "\n",
            "    accuracy                           0.94       815\n",
            "   macro avg       0.96      0.71      0.77       815\n",
            "weighted avg       0.95      0.94      0.94       815\n",
            "\n"
          ],
          "name": "stdout"
        },
        {
          "output_type": "execute_result",
          "data": {
            "text/plain": [
              "0.9447852760736196"
            ]
          },
          "metadata": {
            "tags": []
          },
          "execution_count": 28
        },
        {
          "output_type": "display_data",
          "data": {
            "image/png": "[encoded data removed]",
            "text/plain": [
              "<Figure size 432x288 with 1 Axes>"
            ]
          },
          "metadata": {
            "tags": [],
            "needs_background": "light"
          }
        }
      ]
    },
    {
      "cell_type": "markdown",
      "metadata": {
        "id": "3rMTlew8s1tY"
      },
      "source": [
        "Ensemble\n"
      ]
    },
    {
      "cell_type": "code",
      "metadata": {
        "colab": {
          "base_uri": "https://localhost:8080/",
          "height": 480
        },
        "id": "sQQl1_gns0YC",
        "outputId": "f7701e1e-f0bc-4bb7-e6de-436f9981ca81"
      },
      "source": [
        "from sklearn.ensemble import VotingClassifier\n",
        "#create a dictionary of our models\n",
        "estimators=[('knn', knn), ('rf', rf_best), ('svm', clf)]\n",
        "#create our voting classifier, inputting our models\n",
        "ensemble = VotingClassifier(estimators, voting='hard')\n",
        "#fit model to training data\n",
        "ensemble.fit(Xtrain, Ytrain)\n",
        "#test our model on the test dat\n",
        "preds_en=ensemble.predict(Xtest)\n",
        "cm5 = confusion_matrix(Ytest, preds_en)\n",
        "sns.heatmap(cm5, annot=True, cbar=False)\n",
        "plt.xlabel('Predicted label')\n",
        "plt.ylabel('True label')\n",
        "plt.title('Confusion Matrix')\n",
        "print(classification_report(Ytest, preds_en))\n",
        "print(ensemble.score(Xtest, Ytest))"
      ],
      "execution_count": null,
      "outputs": [
        {
          "output_type": "stream",
          "text": [
            "              precision    recall  f1-score   support\n",
            "\n",
            "           0       0.93      0.88      0.90       160\n",
            "           1       0.95      0.99      0.97       638\n",
            "           2       1.00      0.06      0.11        17\n",
            "\n",
            "    accuracy                           0.95       815\n",
            "   macro avg       0.96      0.64      0.66       815\n",
            "weighted avg       0.95      0.95      0.94       815\n",
            "\n",
            "0.947239263803681\n"
          ],
          "name": "stdout"
        },
        {
          "output_type": "display_data",
          "data": {
            "image/png": "[encoded data removed]",
            "text/plain": [
              "<Figure size 432x288 with 1 Axes>"
            ]
          },
          "metadata": {
            "tags": [],
            "needs_background": "light"
          }
        }
      ]
    },
    {
      "cell_type": "markdown",
      "metadata": {
        "id": "MQelcYNitAbX"
      },
      "source": [
        "ELM"
      ]
    },
    {
      "cell_type": "code",
      "metadata": {
        "id": "Db0_dZl5q7Rj",
        "colab": {
          "base_uri": "https://localhost:8080/",
          "height": 1000
        },
        "outputId": "9576f534-921e-493a-a497-156a19f6368c"
      },
      "source": [
        "# Final edited date: 2018.3.7\n",
        "# Author: Li Xudong, from NSSC.CAS Beijing\n",
        "# Version: 1.0\n",
        "# Description: Extreme Learning Machine (ELM) class\n",
        "# Methods:\n",
        "#   fit(algorithm)\n",
        "#   predict(x)\n",
        "#   score(x, y)\n",
        "import numpy as np\n",
        "from scipy.linalg import pinv2, inv\n",
        "import time\n",
        "\n",
        "class elm():\n",
        "    '''\n",
        "    Function: elm class init\n",
        "    -------------------\n",
        "    Parameters:\n",
        "    shape: list, shape[hidden units, output units]\n",
        "        numbers of hidden units and output units\n",
        "    activation_function: str, 'sigmoid', 'relu', 'sin', 'tanh' or 'leaky_relu'\n",
        "        Activation function of neurals\n",
        "    x: array, shape[samples, features]\n",
        "        train data\n",
        "    y: array, shape[samples, ]\n",
        "        labels\n",
        "    C: float\n",
        "        regularization parameter\n",
        "    elm_type: str, 'clf' or 'reg'\n",
        "        'clf' means ELM solve classification problems, 'reg' means ELM solve regression problems.\n",
        "    one_hot: bool, Ture or False, default True \n",
        "        The parameter is useful only when elm_type == 'clf'. If the labels need to transformed to\n",
        "        one_hot, this parameter is set to be True\n",
        "    random_type: str, 'uniform' or 'normal', default:'normal'\n",
        "        Weight initialization method\n",
        "    '''\n",
        "    def __init__(self, hidden_units, activation_function,  x, y, C, elm_type, one_hot=True, random_type='normal'):\n",
        "        self.hidden_units = hidden_units\n",
        "        self.activation_function = activation_function\n",
        "        self.random_type = random_type\n",
        "        self.x = x\n",
        "        self.y = y\n",
        "        self.C = C\n",
        "        self.class_num = np.unique(self.y).shape[0]     \n",
        "        self.beta = np.zeros((self.hidden_units, self.class_num))   \n",
        "        self.elm_type = elm_type\n",
        "        self.one_hot = one_hot\n",
        "\n",
        "        # if classification problem and one_hot == True\n",
        "        if elm_type == 'clf' and self.one_hot:\n",
        "            self.one_hot_label = np.zeros((self.y.shape[0], self.class_num))\n",
        "            for i in range(self.y.shape[0]):\n",
        "                self.one_hot_label[i, int(self.y[i])] = 1\n",
        "\n",
        "        # Randomly generate the weight matrix and bias vector from input to hidden layer\n",
        "        # 'uniform': uniform distribution\n",
        "        # 'normal': normal distribution\n",
        "        if self.random_type == 'uniform':\n",
        "            self.W = np.random.uniform(low=0, high=1, size=(self.hidden_units, self.x.shape[1]))\n",
        "            self.b = np.random.uniform(low=0, high=1, size=(self.hidden_units, 1))\n",
        "        if self.random_type == 'normal':\n",
        "            self.W = np.random.normal(loc=0, scale=0.5, size=(self.hidden_units, self.x.shape[1]))\n",
        "            self.b = np.random.normal(loc=0, scale=0.5, size=(self.hidden_units, 1))\n",
        "\n",
        "    # compute the output of hidden layer according to different activation function\n",
        "    def __input2hidden(self, x):\n",
        "        self.temH = np.dot(self.W, x.T) + self.b\n",
        "\n",
        "        if self.activation_function == 'sigmoid':\n",
        "            self.H = 1/(1 + np.exp(- self.temH))\n",
        "\n",
        "        if self.activation_function == 'relu':\n",
        "            self.H = self.temH * (self.temH > 0)\n",
        "\n",
        "        if self.activation_function == 'sin':\n",
        "            self.H = np.sin(self.temH)\n",
        "\n",
        "        if self.activation_function == 'tanh':\n",
        "            self.H = (np.exp(self.temH) - np.exp(-self.temH))/(np.exp(self.temH) + np.exp(-self.temH))\n",
        "\n",
        "        if self.activation_function == 'leaky_relu':\n",
        "            self.H = np.maximum(0, self.temH) + 0.1 * np.minimum(0, self.temH)\n",
        "\n",
        "        return self.H\n",
        "\n",
        "    # compute the output\n",
        "    def __hidden2output(self, H):\n",
        "        self.output = np.dot(H.T, self.beta)\n",
        "        return self.output\n",
        "\n",
        "    '''\n",
        "    Function: Train the model, compute beta matrix, the weight matrix from hidden layer to output layer\n",
        "    ------------------\n",
        "    Parameter:\n",
        "    algorithm: str, 'no_re', 'solution1' or 'solution2'\n",
        "        The algorithm to compute beta matrix\n",
        "    ------------------\n",
        "    Return:\n",
        "    beta: array\n",
        "        the weight matrix from hidden layer to output layer\n",
        "    train_score: float\n",
        "        the accuracy or RMSE\n",
        "    train_time: str\n",
        "        time of computing beta\n",
        "    '''\n",
        "    def fit(self, algorithm):\n",
        "        self.time1 = time.clock()   # compute running time\n",
        "        self.H = self.__input2hidden(self.x)\n",
        "        if self.elm_type == 'clf':\n",
        "            if self.one_hot:\n",
        "                self.y_temp = self.one_hot_label\n",
        "            else:\n",
        "                self.y_temp = self.y\n",
        "        if self.elm_type == 'reg':\n",
        "            self.y_temp = self.y\n",
        "        # no regularization\n",
        "        if algorithm == 'no_re':\n",
        "            self.beta = np.dot(pinv2(self.H.T), self.y_temp)\n",
        "        # faster algorithm 1\n",
        "        if algorithm == 'solution1':\n",
        "            self.tmp1 = inv(np.eye(self.H.shape[0])/self.C + np.dot(self.H, self.H.T))\n",
        "            self.tmp2 = np.dot(self.tmp1, self.H)\n",
        "            self.beta = np.dot(self.tmp2, self.y_temp)\n",
        "        # faster algorithm 2\n",
        "        if algorithm == 'solution2':\n",
        "            self.tmp1 = inv(np.eye(self.H.shape[0])/self.C + np.dot(self.H, self.H.T))\n",
        "            self.tmp2 = np.dot(self.H.T, self.tmp1)\n",
        "            self.beta = np.dot(self.tmp2.T, self.y_temp)\n",
        "        self.time2 = time.clock()\n",
        "\n",
        "        # compute the results\n",
        "        self.result = self.__hidden2output(self.H)\n",
        "        # If the problem if classification problem, the output is softmax\n",
        "        if self.elm_type == 'clf':\n",
        "            self.result = np.exp(self.result)/np.sum(np.exp(self.result), axis=1).reshape(-1, 1)\n",
        "\n",
        "        # Evaluate training results\n",
        "        # If problem is classification, compute the accuracy\n",
        "        # If problem is regression, compute the RMSE\n",
        "        if self.elm_type == 'clf':\n",
        "            self.y_ = np.where(self.result == np.max(self.result, axis=1).reshape(-1, 1))[1]\n",
        "            self.correct = 0\n",
        "            for i in range(self.y.shape[0]):\n",
        "                if self.y_[i] == self.y[i]:\n",
        "                    self.correct += 1\n",
        "            self.train_score = self.correct/self.y.shape[0]\n",
        "        if self.elm_type == 'reg':\n",
        "            self.train_score = np.sqrt(np.sum((self.result - self.y) * (self.result - self.y))/self.y.shape[0])\n",
        "        train_time = str(self.time2 - self.time1)\n",
        "        return self.beta, self.train_score, train_time\n",
        "\n",
        "    '''\n",
        "    Function: compute the result given data\n",
        "    ---------------\n",
        "    Parameters:\n",
        "    x: array, shape[samples, features]\n",
        "    ---------------\n",
        "    Return:\n",
        "    y_: array\n",
        "        predicted results\n",
        "    '''\n",
        "    def predict(self, x):\n",
        "        self.H = self.__input2hidden(x)\n",
        "        self.y_ = self.__hidden2output(self.H)\n",
        "        if self.elm_type == 'clf':\n",
        "            self.y_ = np.where(self.y_ == np.max(self.y_, axis=1).reshape(-1, 1))[1]\n",
        "\n",
        "        return self.y_\n",
        "\n",
        "    '''\n",
        "    Function: compute accuracy or RMSE given data and labels\n",
        "    -------------\n",
        "    Parameters:\n",
        "    x: array, shape[samples, features]\n",
        "    y: array, shape[samples, ]\n",
        "    -------------\n",
        "    Return:\n",
        "    test_score: float, accuracy or RMSE\n",
        "    '''\n",
        "    def score(self, x, y):\n",
        "        self.prediction = self.predict(x)\n",
        "        if self.elm_type == 'clf':\n",
        "            self.correct = 0\n",
        "            for i in range(y.shape[0]):\n",
        "                if self.prediction[i] == y[i]:\n",
        "                    self.correct += 1\n",
        "            self.test_score = self.correct/y.shape[0]\n",
        "        if self.elm_type == 'reg':\n",
        "            self.test_score = np.sqrt(np.sum((self.result - self.y) * (self.result - self.y))/self.y.shape[0])\n",
        "\n",
        "        return self.test_score\n",
        "\n",
        "model = elm(hidden_units=32, activation_function='relu', random_type='normal', x=Xtrain, y=Ytrain, C=0.1, elm_type='clf')\n",
        "beta, train_accuracy, running_time = model.fit('solution2')\n",
        "print(\"classifier beta:\\n\", beta)\n",
        "print(\"classifier train accuracy:\", train_accuracy)\n",
        "print('classifier running time:', running_time)\n",
        "prediction = model.predict(Xtest)\n",
        "print('classifier test accuracy:', model.score(Xtest, Ytest))\n",
        "preds_elm=model.predict(Xtest)\n",
        "cm8 = confusion_matrix(Ytest, preds_elm)\n",
        "sns.heatmap(cm8, annot=True, cbar=False)\n",
        "plt.xlabel('Predicted label')\n",
        "plt.ylabel('True label')\n",
        "plt.title('Confusion Matrix')\n",
        "print(classification_report(Ytest, preds_elm))\n",
        "\n"
      ],
      "execution_count": null,
      "outputs": [
        {
          "output_type": "stream",
          "text": [
            "/usr/local/lib/python3.7/dist-packages/ipykernel_launcher.py:106: DeprecationWarning: time.clock has been deprecated in Python 3.3 and will be removed from Python 3.8: use time.perf_counter or time.process_time instead\n",
            "/usr/local/lib/python3.7/dist-packages/ipykernel_launcher.py:128: DeprecationWarning: time.clock has been deprecated in Python 3.3 and will be removed from Python 3.8: use time.perf_counter or time.process_time instead\n",
            "/usr/local/lib/python3.7/dist-packages/sklearn/metrics/_classification.py:1272: UndefinedMetricWarning: Precision and F-score are ill-defined and being set to 0.0 in labels with no predicted samples. Use `zero_division` parameter to control this behavior.\n",
            "  _warn_prf(average, modifier, msg_start, len(result))\n"
          ],
          "name": "stderr"
        },
        {
          "output_type": "stream",
          "text": [
            "classifier beta:\n",
            " [[ 2.19661716e-03 -3.41710583e-03  2.93044041e-03]\n",
            " [-1.56382328e-03  8.97738763e-03  7.56050699e-04]\n",
            " [-1.58145183e-03  2.65691059e-03 -2.88405584e-04]\n",
            " [-2.48468507e-03  1.02453406e-02 -1.04285609e-03]\n",
            " [-1.98236902e-04  1.73927909e-04  2.03482364e-04]\n",
            " [ 2.80100341e-03 -1.00809138e-03  2.74517016e-05]\n",
            " [ 1.63313411e-03  1.55597093e-03  2.80924827e-04]\n",
            " [-5.36176958e-03  5.87207503e-03  3.56357864e-04]\n",
            " [ 5.99795425e-03 -7.61062302e-04 -7.80975462e-04]\n",
            " [ 3.68885657e-03  3.13743186e-04  5.19821814e-04]\n",
            " [ 7.12061165e-03 -1.25787708e-03 -2.17421478e-04]\n",
            " [ 6.53455459e-03 -1.18238406e-02 -6.34763486e-04]\n",
            " [ 9.65895730e-03 -5.11289889e-03 -7.60837885e-04]\n",
            " [ 2.88626412e-03  2.23325910e-03  1.65197129e-03]\n",
            " [ 1.31563960e-02 -1.01604174e-02  4.40143526e-03]\n",
            " [-6.61344353e-03  6.59314594e-03  7.35747579e-04]\n",
            " [-2.20961053e-03  4.89084867e-03 -1.26235614e-04]\n",
            " [-2.13689572e-03  5.72754824e-03  7.62425440e-04]\n",
            " [-1.84688901e-03  1.13152369e-02 -1.05729249e-03]\n",
            " [ 3.46998846e-04 -5.86413651e-04 -2.72680709e-03]\n",
            " [-2.44733901e-03  6.79759911e-03 -1.08841799e-03]\n",
            " [ 1.43588179e-02  2.12978508e-02 -7.98551856e-03]\n",
            " [ 2.42605598e-03 -3.87099112e-03  4.20935737e-04]\n",
            " [-6.77191198e-03  7.95581249e-03  2.14703445e-04]\n",
            " [-5.80193339e-04  6.56590152e-03 -1.63835780e-04]\n",
            " [ 1.29882734e-03  2.96277680e-03  3.66375222e-04]\n",
            " [ 1.10206923e-02 -3.26447105e-03  2.03570773e-03]\n",
            " [-1.03672489e-03  1.75350347e-03  8.51077769e-04]\n",
            " [-4.08052934e-03  8.71009968e-03  5.84895185e-05]\n",
            " [-1.34910387e-03  4.33089991e-03 -4.74169177e-04]\n",
            " [-4.74518776e-03  1.04751639e-02 -9.67413899e-04]\n",
            " [-2.47008111e-03  6.18650688e-03  2.68970339e-04]]\n",
            "classifier train accuracy: 0.8885477433220755\n",
            "classifier running time: 0.09696900000000142\n",
            "classifier test accuracy: 0.9042944785276074\n",
            "              precision    recall  f1-score   support\n",
            "\n",
            "           0       0.86      0.72      0.79       160\n",
            "           1       0.91      0.97      0.94       638\n",
            "           2       0.00      0.00      0.00        17\n",
            "\n",
            "    accuracy                           0.90       815\n",
            "   macro avg       0.59      0.57      0.58       815\n",
            "weighted avg       0.88      0.90      0.89       815\n",
            "\n"
          ],
          "name": "stdout"
        },
        {
          "output_type": "display_data",
          "data": {
            "image/png": "[encoded data removed]",
            "text/plain": [
              "<Figure size 432x288 with 1 Axes>"
            ]
          },
          "metadata": {
            "tags": [],
            "needs_background": "light"
          }
        }
      ]
    },
    {
      "cell_type": "code",
      "metadata": {
        "id": "JzOwy_JItdQ5"
      },
      "source": [
        ""
      ],
      "execution_count": null,
      "outputs": []
    }
  ]
}